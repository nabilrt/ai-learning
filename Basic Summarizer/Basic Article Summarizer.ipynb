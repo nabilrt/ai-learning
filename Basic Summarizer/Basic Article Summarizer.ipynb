{
 "cells": [
  {
   "cell_type": "code",
   "execution_count": 51,
   "id": "140ab5f9",
   "metadata": {},
   "outputs": [],
   "source": [
    "import re\n",
    "import os\n",
    "import time\n",
    "import numpy as np\n",
    "import pandas as pd \n",
    "import unicodedata\n",
    "import tensorflow as tf\n",
    "import tensorflow.keras as krs\n",
    "from tensorflow.keras.layers import Embedding\n",
    "from tensorflow.keras.optimizers import Adam\n",
    "from tensorflow.keras.losses import SparseCategoricalCrossentropy, CategoricalCrossentropy\n",
    "from tensorflow.keras.preprocessing.text import Tokenizer \n",
    "from tensorflow.keras.optimizers.schedules import LearningRateSchedule\n",
    "import csv\n",
    "\n",
    "BUFFER_SIZE = 20000\n",
    "BATCH_SIZE = 64\n",
    "embedding_dim = 50 # first it was 200"
   ]
  },
  {
   "cell_type": "code",
   "execution_count": 52,
   "id": "ae5854ed",
   "metadata": {},
   "outputs": [
    {
     "data": {
      "text/html": [
       "<div>\n",
       "<style scoped>\n",
       "    .dataframe tbody tr th:only-of-type {\n",
       "        vertical-align: middle;\n",
       "    }\n",
       "\n",
       "    .dataframe tbody tr th {\n",
       "        vertical-align: top;\n",
       "    }\n",
       "\n",
       "    .dataframe thead th {\n",
       "        text-align: right;\n",
       "    }\n",
       "</style>\n",
       "<table border=\"1\" class=\"dataframe\">\n",
       "  <thead>\n",
       "    <tr style=\"text-align: right;\">\n",
       "      <th></th>\n",
       "      <th>Headline</th>\n",
       "      <th>Short</th>\n",
       "      <th>Source</th>\n",
       "      <th>Time</th>\n",
       "      <th>Publish Date</th>\n",
       "    </tr>\n",
       "  </thead>\n",
       "  <tbody>\n",
       "    <tr>\n",
       "      <th>0</th>\n",
       "      <td>4 ex-bank officials booked for cheating bank o...</td>\n",
       "      <td>The CBI on Saturday booked four former officia...</td>\n",
       "      <td>The New Indian Express</td>\n",
       "      <td>09:25:00</td>\n",
       "      <td>2017-03-26</td>\n",
       "    </tr>\n",
       "    <tr>\n",
       "      <th>1</th>\n",
       "      <td>Supreme Court to go paperless in 6 months: CJI</td>\n",
       "      <td>Chief Justice JS Khehar has said the Supreme C...</td>\n",
       "      <td>Outlook</td>\n",
       "      <td>22:18:00</td>\n",
       "      <td>2017-03-25</td>\n",
       "    </tr>\n",
       "    <tr>\n",
       "      <th>2</th>\n",
       "      <td>At least 3 killed, 30 injured in blast in Sylh...</td>\n",
       "      <td>At least three people were killed, including a...</td>\n",
       "      <td>Hindustan Times</td>\n",
       "      <td>23:39:00</td>\n",
       "      <td>2017-03-25</td>\n",
       "    </tr>\n",
       "    <tr>\n",
       "      <th>3</th>\n",
       "      <td>Why has Reliance been barred from trading in f...</td>\n",
       "      <td>Mukesh Ambani-led Reliance Industries (RIL) wa...</td>\n",
       "      <td>Livemint</td>\n",
       "      <td>23:08:00</td>\n",
       "      <td>2017-03-25</td>\n",
       "    </tr>\n",
       "    <tr>\n",
       "      <th>4</th>\n",
       "      <td>Was stopped from entering my own studio at Tim...</td>\n",
       "      <td>TV news anchor Arnab Goswami has said he was t...</td>\n",
       "      <td>YouTube</td>\n",
       "      <td>23:24:00</td>\n",
       "      <td>2017-03-25</td>\n",
       "    </tr>\n",
       "  </tbody>\n",
       "</table>\n",
       "</div>"
      ],
      "text/plain": [
       "                                            Headline  \\\n",
       "0  4 ex-bank officials booked for cheating bank o...   \n",
       "1     Supreme Court to go paperless in 6 months: CJI   \n",
       "2  At least 3 killed, 30 injured in blast in Sylh...   \n",
       "3  Why has Reliance been barred from trading in f...   \n",
       "4  Was stopped from entering my own studio at Tim...   \n",
       "\n",
       "                                               Short                 Source   \\\n",
       "0  The CBI on Saturday booked four former officia...  The New Indian Express   \n",
       "1  Chief Justice JS Khehar has said the Supreme C...                 Outlook   \n",
       "2  At least three people were killed, including a...         Hindustan Times   \n",
       "3  Mukesh Ambani-led Reliance Industries (RIL) wa...                Livemint   \n",
       "4  TV news anchor Arnab Goswami has said he was t...                 YouTube   \n",
       "\n",
       "      Time  Publish Date  \n",
       "0  09:25:00   2017-03-26  \n",
       "1  22:18:00   2017-03-25  \n",
       "2  23:39:00   2017-03-25  \n",
       "3  23:08:00   2017-03-25  \n",
       "4  23:24:00   2017-03-25  "
      ]
     },
     "execution_count": 52,
     "metadata": {},
     "output_type": "execute_result"
    }
   ],
   "source": [
    "data_unprocessed_news = pd.read_excel('data.xlsx')\n",
    "data_unprocessed_news.head()"
   ]
  },
  {
   "cell_type": "code",
   "execution_count": 53,
   "id": "742af060",
   "metadata": {},
   "outputs": [
    {
     "data": {
      "text/html": [
       "<div>\n",
       "<style scoped>\n",
       "    .dataframe tbody tr th:only-of-type {\n",
       "        vertical-align: middle;\n",
       "    }\n",
       "\n",
       "    .dataframe tbody tr th {\n",
       "        vertical-align: top;\n",
       "    }\n",
       "\n",
       "    .dataframe thead th {\n",
       "        text-align: right;\n",
       "    }\n",
       "</style>\n",
       "<table border=\"1\" class=\"dataframe\">\n",
       "  <thead>\n",
       "    <tr style=\"text-align: right;\">\n",
       "      <th></th>\n",
       "      <th>Headline</th>\n",
       "      <th>Short</th>\n",
       "      <th>Source</th>\n",
       "      <th>Time</th>\n",
       "      <th>Publish Date</th>\n",
       "    </tr>\n",
       "  </thead>\n",
       "  <tbody>\n",
       "    <tr>\n",
       "      <th>25348</th>\n",
       "      <td>Parrikar gives credit to RSS teachings for sur...</td>\n",
       "      <td>Defence Minister Manohar Parrikar on Monday at...</td>\n",
       "      <td>PTI</td>\n",
       "      <td>00:00:00</td>\n",
       "      <td>2016-10-18</td>\n",
       "    </tr>\n",
       "    <tr>\n",
       "      <th>17186</th>\n",
       "      <td>Doll making centre helps women earn livelihood...</td>\n",
       "      <td>A doll making centre, established by a German ...</td>\n",
       "      <td>YouTube</td>\n",
       "      <td>19:57:00</td>\n",
       "      <td>2016-12-05</td>\n",
       "    </tr>\n",
       "    <tr>\n",
       "      <th>7363</th>\n",
       "      <td>India defeat New Zealand 3-1 to progress to Da...</td>\n",
       "      <td>Twenty-two-year-old Indian tennis player Ramku...</td>\n",
       "      <td>Twitter</td>\n",
       "      <td>19:55:00</td>\n",
       "      <td>2017-02-05</td>\n",
       "    </tr>\n",
       "    <tr>\n",
       "      <th>17003</th>\n",
       "      <td>₹2,000 crore undisclosed income admitted since...</td>\n",
       "      <td>The Finance Ministry on Tuesday said that appr...</td>\n",
       "      <td>PIB</td>\n",
       "      <td>18:32:00</td>\n",
       "      <td>2016-12-06</td>\n",
       "    </tr>\n",
       "    <tr>\n",
       "      <th>8275</th>\n",
       "      <td>Sachin says he changed playing style after wai...</td>\n",
       "      <td>Sachin Tendulkar has revealed he used a waiter...</td>\n",
       "      <td>India Today</td>\n",
       "      <td>17:37:00</td>\n",
       "      <td>2017-01-30</td>\n",
       "    </tr>\n",
       "  </tbody>\n",
       "</table>\n",
       "</div>"
      ],
      "text/plain": [
       "                                                Headline  \\\n",
       "25348  Parrikar gives credit to RSS teachings for sur...   \n",
       "17186  Doll making centre helps women earn livelihood...   \n",
       "7363   India defeat New Zealand 3-1 to progress to Da...   \n",
       "17003  ₹2,000 crore undisclosed income admitted since...   \n",
       "8275   Sachin says he changed playing style after wai...   \n",
       "\n",
       "                                                   Short      Source   \\\n",
       "25348  Defence Minister Manohar Parrikar on Monday at...          PTI   \n",
       "17186  A doll making centre, established by a German ...      YouTube   \n",
       "7363   Twenty-two-year-old Indian tennis player Ramku...      Twitter   \n",
       "17003  The Finance Ministry on Tuesday said that appr...          PIB   \n",
       "8275   Sachin Tendulkar has revealed he used a waiter...  India Today   \n",
       "\n",
       "          Time  Publish Date  \n",
       "25348  00:00:00   2016-10-18  \n",
       "17186  19:57:00   2016-12-05  \n",
       "7363   19:55:00   2017-02-05  \n",
       "17003  18:32:00   2016-12-06  \n",
       "8275   17:37:00   2017-01-30  "
      ]
     },
     "execution_count": 53,
     "metadata": {},
     "output_type": "execute_result"
    }
   ],
   "source": [
    "from sklearn.utils import shuffle\n",
    "# shuffling the data \n",
    "data_unprocessed_news = shuffle(data_unprocessed_news)\n",
    "data_unprocessed_news.head()"
   ]
  },
  {
   "cell_type": "code",
   "execution_count": 55,
   "id": "f4ea6cd9",
   "metadata": {},
   "outputs": [
    {
     "data": {
      "text/plain": [
       "((55104, 1), (55104, 1))"
      ]
     },
     "execution_count": 55,
     "metadata": {},
     "output_type": "execute_result"
    }
   ],
   "source": [
    "summaries, longreview = pd.DataFrame(), pd.DataFrame()\n",
    "summaries['short'] = data_unprocessed_news['Short']#[:data_to_use]\n",
    "longreview['long'] = data_unprocessed_news['Headline']#[:data_to_use]\n",
    "(summaries.shape,longreview.shape)"
   ]
  },
  {
   "cell_type": "code",
   "execution_count": 56,
   "id": "4bd1b11a",
   "metadata": {},
   "outputs": [],
   "source": [
    "def clean_words(sentence):\n",
    "    sentence = str(sentence).lower()\n",
    "    sentence = unicodedata.normalize('NFKD', sentence).encode('ascii', 'ignore').decode('utf-8', 'ignore') # for converting é to e and other accented chars\n",
    "    sentence = re.sub(r\"http\\S+\",\"\",sentence)\n",
    "    sentence = re.sub(r\"there's\", \"there is\", sentence)\n",
    "    sentence = re.sub(r\"i'm\", \"i am\", sentence)\n",
    "    sentence = re.sub(r\"he's\", \"he is\", sentence)\n",
    "    sentence = re.sub(r\"she's\", \"she is\", sentence)\n",
    "    sentence = re.sub(r\"it's\", \"it is\", sentence)\n",
    "    sentence = re.sub(r\"that's\", \"that is\", sentence)\n",
    "    sentence = re.sub(r\"what's\", \"that is\", sentence)\n",
    "    sentence = re.sub(r\"where's\", \"where is\", sentence)\n",
    "    sentence = re.sub(r\"how's\", \"how is\", sentence)\n",
    "    sentence = re.sub(r\"\\'ll\", \" will\", sentence)\n",
    "    sentence = re.sub(r\"\\'ve\", \" have\", sentence)\n",
    "    sentence = re.sub(r\"\\'re\", \" are\", sentence)\n",
    "    sentence = re.sub(r\"\\'d\", \" would\", sentence)\n",
    "    sentence = re.sub(r\"\\'re\", \" are\", sentence)\n",
    "    sentence = re.sub(r\"won't\", \"will not\", sentence)\n",
    "    sentence = re.sub(r\"can't\", \"cannot\", sentence)\n",
    "    sentence = re.sub(r\"n't\", \" not\", sentence)\n",
    "    sentence = re.sub(r\"n'\", \"ng\", sentence)\n",
    "    sentence = re.sub(r\"'bout\", \"about\", sentence)\n",
    "    sentence = re.sub(r\"'til\", \"until\", sentence)\n",
    "    sentence = re.sub(r\"\\\"\", \"\", sentence)\n",
    "    sentence = re.sub(r\"\\'\", \"\", sentence)\n",
    "    sentence = re.sub(r' s ', \"\",sentence)\n",
    "    sentence = re.sub(r\"&39\", \"\", sentence) # the inshorts data has this in it\n",
    "    sentence = re.sub(r\"&34\", \"\", sentence) # the inshorts data has this in it\n",
    "    sentence = re.sub(r\"[\\[\\]\\\\0-9()\\\"$#%/@;:<>{}`+=~|.!?,-]\", \"\", sentence)\n",
    "    sentence = re.sub(r\"&\", \"\", sentence)\n",
    "    sentence = re.sub(r\"\\\\n\", \"\", sentence)\n",
    "    sentence = sentence.strip()\n",
    "    return sentence"
   ]
  },
  {
   "cell_type": "code",
   "execution_count": 57,
   "id": "6417d496",
   "metadata": {},
   "outputs": [],
   "source": [
    "summaries['short'] = summaries['short'].apply(lambda x: clean_words(x))\n",
    "longreview['long'] = longreview['long'].apply(lambda x: clean_words(x))"
   ]
  },
  {
   "cell_type": "code",
   "execution_count": 58,
   "id": "dfe79a20",
   "metadata": {},
   "outputs": [
    {
     "data": {
      "text/html": [
       "<div>\n",
       "<style scoped>\n",
       "    .dataframe tbody tr th:only-of-type {\n",
       "        vertical-align: middle;\n",
       "    }\n",
       "\n",
       "    .dataframe tbody tr th {\n",
       "        vertical-align: top;\n",
       "    }\n",
       "\n",
       "    .dataframe thead th {\n",
       "        text-align: right;\n",
       "    }\n",
       "</style>\n",
       "<table border=\"1\" class=\"dataframe\">\n",
       "  <thead>\n",
       "    <tr style=\"text-align: right;\">\n",
       "      <th></th>\n",
       "      <th>long</th>\n",
       "    </tr>\n",
       "  </thead>\n",
       "  <tbody>\n",
       "    <tr>\n",
       "      <th>25348</th>\n",
       "      <td>parrikar gives credit to rss teachings for sur...</td>\n",
       "    </tr>\n",
       "    <tr>\n",
       "      <th>17186</th>\n",
       "      <td>doll making centre helps women earn livelihood...</td>\n",
       "    </tr>\n",
       "    <tr>\n",
       "      <th>7363</th>\n",
       "      <td>india defeat new zealand  to progress to davis...</td>\n",
       "    </tr>\n",
       "    <tr>\n",
       "      <th>17003</th>\n",
       "      <td>crore undisclosed income admitted since note ban</td>\n",
       "    </tr>\n",
       "    <tr>\n",
       "      <th>8275</th>\n",
       "      <td>sachin says he changed playing style after wai...</td>\n",
       "    </tr>\n",
       "  </tbody>\n",
       "</table>\n",
       "</div>"
      ],
      "text/plain": [
       "                                                    long\n",
       "25348  parrikar gives credit to rss teachings for sur...\n",
       "17186  doll making centre helps women earn livelihood...\n",
       "7363   india defeat new zealand  to progress to davis...\n",
       "17003   crore undisclosed income admitted since note ban\n",
       "8275   sachin says he changed playing style after wai..."
      ]
     },
     "execution_count": 58,
     "metadata": {},
     "output_type": "execute_result"
    }
   ],
   "source": [
    "longreview.head()"
   ]
  },
  {
   "cell_type": "code",
   "execution_count": 59,
   "id": "7ac51e1d",
   "metadata": {},
   "outputs": [
    {
     "data": {
      "text/html": [
       "<div>\n",
       "<style scoped>\n",
       "    .dataframe tbody tr th:only-of-type {\n",
       "        vertical-align: middle;\n",
       "    }\n",
       "\n",
       "    .dataframe tbody tr th {\n",
       "        vertical-align: top;\n",
       "    }\n",
       "\n",
       "    .dataframe thead th {\n",
       "        text-align: right;\n",
       "    }\n",
       "</style>\n",
       "<table border=\"1\" class=\"dataframe\">\n",
       "  <thead>\n",
       "    <tr style=\"text-align: right;\">\n",
       "      <th></th>\n",
       "      <th>short</th>\n",
       "    </tr>\n",
       "  </thead>\n",
       "  <tbody>\n",
       "    <tr>\n",
       "      <th>25348</th>\n",
       "      <td>&lt;startseq&gt; defence minister manohar parrikar o...</td>\n",
       "    </tr>\n",
       "    <tr>\n",
       "      <th>17186</th>\n",
       "      <td>&lt;startseq&gt; a doll making centre established by...</td>\n",
       "    </tr>\n",
       "    <tr>\n",
       "      <th>7363</th>\n",
       "      <td>&lt;startseq&gt; twentytwoyearold indian tennis play...</td>\n",
       "    </tr>\n",
       "    <tr>\n",
       "      <th>17003</th>\n",
       "      <td>&lt;startseq&gt; the finance ministry on tuesday sai...</td>\n",
       "    </tr>\n",
       "    <tr>\n",
       "      <th>8275</th>\n",
       "      <td>&lt;startseq&gt; sachin tendulkar has revealed he us...</td>\n",
       "    </tr>\n",
       "  </tbody>\n",
       "</table>\n",
       "</div>"
      ],
      "text/plain": [
       "                                                   short\n",
       "25348  <startseq> defence minister manohar parrikar o...\n",
       "17186  <startseq> a doll making centre established by...\n",
       "7363   <startseq> twentytwoyearold indian tennis play...\n",
       "17003  <startseq> the finance ministry on tuesday sai...\n",
       "8275   <startseq> sachin tendulkar has revealed he us..."
      ]
     },
     "execution_count": 59,
     "metadata": {},
     "output_type": "execute_result"
    }
   ],
   "source": [
    "# adding start and end token to the senteces of label \n",
    "start_token, end_token = '<startseq>' , '<endseq>'\n",
    "summaries = summaries.apply(lambda x: start_token + ' ' + x + ' ' + end_token)\n",
    "summaries.head()"
   ]
  },
  {
   "cell_type": "code",
   "execution_count": 60,
   "id": "5689b009",
   "metadata": {},
   "outputs": [
    {
     "data": {
      "text/plain": [
       "(5510, 49594)"
      ]
     },
     "execution_count": 60,
     "metadata": {},
     "output_type": "execute_result"
    }
   ],
   "source": [
    "val_split = 0.1\n",
    "# train validation split\n",
    "summaries_train = summaries[int(len(summaries)*val_split):]\n",
    "summaries_val = summaries[:int(len(summaries)*val_split)]\n",
    "longreview_train = longreview[int(len(summaries)*val_split):]\n",
    "longreview_val = longreview[:int(len(summaries)*val_split)]\n",
    "\n",
    "len(longreview_val),len(longreview_train)"
   ]
  },
  {
   "cell_type": "code",
   "execution_count": 61,
   "id": "c21530e7",
   "metadata": {},
   "outputs": [
    {
     "data": {
      "text/plain": [
       "(long    mastermind hafiz saeed under house arrest in p...\n",
       " Name: 8227, dtype: object,\n",
       " short    <startseq> mumbai terror attack mastermind and...\n",
       " Name: 8227, dtype: object)"
      ]
     },
     "execution_count": 61,
     "metadata": {},
     "output_type": "execute_result"
    }
   ],
   "source": [
    "longreview_train.iloc[0], summaries_train.iloc[0]"
   ]
  },
  {
   "cell_type": "code",
   "execution_count": 63,
   "id": "80316c3d",
   "metadata": {},
   "outputs": [
    {
     "name": "stdout",
     "output_type": "stream",
     "text": [
      "percentile 90 of length of news: 10.0\n",
      "longest sentence:  14\n",
      "\n",
      "percentile 90 of length of summaries: 62.0\n",
      "longest sentence:  68\n",
      "\n",
      "max-length longreview chosen for training:  10\n",
      "max-length summaries chosen for training:  62\n"
     ]
    }
   ],
   "source": [
    "# because there are senteces with unusually long lengths, \n",
    "# we caculate the max length that 95% of sentences are shorter than that\n",
    "def max_length(shorts, longs, prct):\n",
    "    # Create a list of all the captions\n",
    "    \n",
    "    length_longs = list(len(d.split()) for d in longs)\n",
    "    length_shorts = list(len(d.split()) for d in shorts)\n",
    "\n",
    "    print('percentile {} of length of news: {}'.format(prct,np.percentile(length_longs, prct)))\n",
    "    print('longest sentence: ', max(length_longs))\n",
    "    print()\n",
    "    print('percentile {} of length of summaries: {}'.format(prct,np.percentile(length_shorts, prct)))\n",
    "    print('longest sentence: ', max(length_shorts))\n",
    "    print()\n",
    "    return int(np.percentile(length_longs, prct)),int(np.percentile(length_shorts, prct))\n",
    "\n",
    "# selecting sentence length based on the percentile of data that fits in the length\n",
    "max_len_news, max_len_summary= max_length(summaries_train['short'].to_list(), longreview_train['long'].to_list(), 90)\n",
    "\n",
    "\n",
    "print('max-length longreview chosen for training: ', max_len_news)\n",
    "print('max-length summaries chosen for training: ', max_len_summary)"
   ]
  },
  {
   "cell_type": "code",
   "execution_count": 64,
   "id": "16683a64",
   "metadata": {},
   "outputs": [],
   "source": [
    "# making a vocabulary of the words \n",
    "def create_vocab(shorts, longs = None, minimum_repeat = 3):\n",
    "\n",
    "    # Create a list of all the captions\n",
    "    all_captions = []\n",
    "    for s in shorts:\n",
    "        all_captions.append(s)\n",
    "\n",
    "    # Consider only words which occur at least minimum_occurrence times in the corpus\n",
    "    word_counts = {}\n",
    "    nsents = 0\n",
    "    for sent in all_captions:\n",
    "        nsents += 1\n",
    "        for w in sent.split(' '):\n",
    "            word_counts[w] = word_counts.get(w, 0) + 1\n",
    "\n",
    "    vocab = [w for w in word_counts if word_counts[w] >= minimum_repeat]\n",
    "    \n",
    "    vocab = list(set(vocab))\n",
    "    return vocab"
   ]
  },
  {
   "cell_type": "code",
   "execution_count": 66,
   "id": "ceb69f97",
   "metadata": {},
   "outputs": [
    {
     "data": {
      "text/plain": [
       "['<endseq>',\n",
       " '<startseq>',\n",
       " 'a',\n",
       " 'aa',\n",
       " 'aadhaar',\n",
       " 'aadhaarbased',\n",
       " 'aadmi',\n",
       " 'aai',\n",
       " 'aaj',\n",
       " 'aakash']"
      ]
     },
     "execution_count": 66,
     "metadata": {},
     "output_type": "execute_result"
    }
   ],
   "source": [
    "# each word in the vocabulary must be used in the data atleast minimum_repeat times\n",
    "vocab_dec = create_vocab(summaries_train['short'].to_list(), minimum_repeat=5) # here we just use the words in vocabulary of summaries\n",
    "# removing one character words from vocab except for 'a'\n",
    "for v in vocab_dec:\n",
    "    if len(v) == 1 and v!='a' and v!='i':\n",
    "        vocab_dec.remove(v) \n",
    "        \n",
    "vocab_dec = sorted(vocab_dec)[1:] # [1:] is for the '' \n",
    "vocab_dec[:10]"
   ]
  },
  {
   "cell_type": "code",
   "execution_count": 67,
   "id": "9a563426",
   "metadata": {},
   "outputs": [
    {
     "data": {
      "text/plain": [
       "['a',\n",
       " 'aa',\n",
       " 'aadhaar',\n",
       " 'aadhaarbased',\n",
       " 'aadmi',\n",
       " 'aai',\n",
       " 'aaj',\n",
       " 'aakash',\n",
       " 'aam',\n",
       " 'aamir']"
      ]
     },
     "execution_count": 67,
     "metadata": {},
     "output_type": "execute_result"
    }
   ],
   "source": [
    "# each word in the vocabulary must be used in the data atleast minimum_repeat times\n",
    "vocab_enc = create_vocab(longreview_train['long'].to_list(), minimum_repeat=3) # here we just use the words in vocabulary of summaries\n",
    "# removing one character words from vocab except for 'a'\n",
    "for v in vocab_enc:\n",
    "    if len(v) == 1 and v!='a' and v!='i':\n",
    "        vocab_enc.remove(v) \n",
    "        \n",
    "vocab_enc = sorted(vocab_enc)[1:] # [1:] is for the '' \n",
    "vocab_enc[:10]"
   ]
  },
  {
   "cell_type": "code",
   "execution_count": 68,
   "id": "86d934a1",
   "metadata": {},
   "outputs": [
    {
     "data": {
      "text/plain": [
       "(12568, 23605)"
      ]
     },
     "execution_count": 68,
     "metadata": {},
     "output_type": "execute_result"
    }
   ],
   "source": [
    "oov_token = '<UNK>'\n",
    "filters = '!\"#$%&()*+,-./:;=?@[\\\\]^_`{|}~\\t\\n' # making sure all the last non digit non alphabet chars are removed\n",
    "document_tokenizer = krs.preprocessing.text.Tokenizer(filters = filters,oov_token=oov_token)\n",
    "summary_tokenizer = krs.preprocessing.text.Tokenizer(filters = filters,oov_token=oov_token)\n",
    "document_tokenizer.fit_on_texts(vocab_enc)\n",
    "summary_tokenizer.fit_on_texts(vocab_dec)#summaries_train['short'])\n",
    "\n",
    "# caculating number of words in vocabulary of encoder and decoder\n",
    "# they are important for positional encoding\n",
    "encoder_vocab_size = len(document_tokenizer.word_index) + 1 \n",
    "decoder_vocab_size = len(summary_tokenizer.word_index) + 1\n",
    "\n",
    "# vocab_size\n",
    "encoder_vocab_size, decoder_vocab_size"
   ]
  },
  {
   "cell_type": "code",
   "execution_count": 69,
   "id": "30a9117e",
   "metadata": {},
   "outputs": [],
   "source": [
    "ixtoword_enc = {} # index to word dic\n",
    "ixtoword_dec = {} # index to word dic\n",
    "\n",
    "wordtoix_enc = document_tokenizer.word_index # word to index dic\n",
    "ixtoword_enc[0] = '<PAD0>' # no word in vocab has index 0. but padding is indicated with 0\n",
    "ixtoword_dec[0] = '<PAD0>' # no word in vocab has index 0. but padding is indicated with 0\n",
    "\n",
    "for w in document_tokenizer.word_index:\n",
    "    ixtoword_enc[document_tokenizer.word_index[w]] = w\n",
    "################################################\n",
    "wordtoix_dec = summary_tokenizer.word_index # word to index dic\n",
    "\n",
    "for w in summary_tokenizer.word_index:\n",
    "    ixtoword_dec[summary_tokenizer.word_index[w]] = w"
   ]
  },
  {
   "cell_type": "code",
   "execution_count": 70,
   "id": "67691e19",
   "metadata": {},
   "outputs": [],
   "source": [
    "# assign a number to each word inorder to find it in word embeddings\n",
    "inputs = document_tokenizer.texts_to_sequences(longreview_train['long'])\n",
    "targets = summary_tokenizer.texts_to_sequences(summaries_train['short'])\n",
    "inputs_val = document_tokenizer.texts_to_sequences(longreview_val['long'])\n",
    "targets_val = summary_tokenizer.texts_to_sequences(summaries_val['short'])"
   ]
  },
  {
   "cell_type": "code",
   "execution_count": 71,
   "id": "64c4e781",
   "metadata": {},
   "outputs": [],
   "source": [
    "inputs = krs.preprocessing.sequence.pad_sequences(inputs, maxlen=max_len_news, padding='post', truncating='post')\n",
    "targets = krs.preprocessing.sequence.pad_sequences(targets, maxlen=max_len_summary, padding='post', truncating='post')\n",
    "inputs_val = krs.preprocessing.sequence.pad_sequences(inputs_val, maxlen=max_len_news, padding='post', truncating='post')\n",
    "targets_val = krs.preprocessing.sequence.pad_sequences(targets_val, maxlen=max_len_summary, padding='post', truncating='post')"
   ]
  },
  {
   "cell_type": "code",
   "execution_count": 72,
   "id": "b2155fd4",
   "metadata": {},
   "outputs": [],
   "source": [
    "# validate train split\n",
    "dataset = tf.data.Dataset.from_tensor_slices((inputs,targets)).shuffle(BUFFER_SIZE).batch(BATCH_SIZE)\n",
    "dataset_val = tf.data.Dataset.from_tensor_slices((inputs_val,targets_val)).shuffle(BUFFER_SIZE).batch(BATCH_SIZE*2)"
   ]
  },
  {
   "cell_type": "code",
   "execution_count": 73,
   "id": "b0bb85da",
   "metadata": {},
   "outputs": [],
   "source": [
    "longreview_val.reset_index(inplace=True, drop=True)\n",
    "summaries_val.reset_index(inplace=True, drop=True)\n",
    "longreview_train.reset_index(inplace=True, drop=True)\n",
    "summaries_train.reset_index(inplace=True, drop=True)"
   ]
  },
  {
   "cell_type": "code",
   "execution_count": 74,
   "id": "48001eb8",
   "metadata": {},
   "outputs": [],
   "source": [
    "import matplotlib.pyplot as plt\n",
    "\n",
    "def hist(history):\n",
    "    plt.title('Loss')\n",
    "\n",
    "    x= [i[0] for i in history['val']]\n",
    "    y=[i[1] for i in history['val']]\n",
    "    plt.plot(x,y,'x-')\n",
    "    \n",
    "    x= [i[0] for i in history['train']]\n",
    "    y=[i[1] for i in history['train']]    \n",
    "    plt.plot(x,y,'o-')\n",
    "\n",
    "    plt.legend(['validation','train'])\n",
    "    plt.show()\n",
    "    print('smallest val loss:', sorted(history['val'],key=lambda x: x[1])[0])"
   ]
  },
  {
   "cell_type": "code",
   "execution_count": 75,
   "id": "489b1c76",
   "metadata": {},
   "outputs": [],
   "source": [
    "# the job of this function is to calculate the above equation\n",
    "def scaled_dot_product_attention(q, k, v, mask):\n",
    "    matmul_qk = tf.matmul(q, k, transpose_b=True)\n",
    "\n",
    "    dk = tf.cast(tf.shape(k)[-1], tf.float32)\n",
    "    scaled_attention_logits = matmul_qk / tf.math.sqrt(dk)\n",
    "\n",
    "    if mask is not None:\n",
    "        scaled_attention_logits += (mask * -1e9)  \n",
    "\n",
    "    attention_weights = tf.nn.softmax(scaled_attention_logits, axis=-1)\n",
    "\n",
    "    output = tf.matmul(attention_weights, v)\n",
    "    return output, attention_weights"
   ]
  },
  {
   "cell_type": "code",
   "execution_count": 76,
   "id": "3553c98f",
   "metadata": {},
   "outputs": [],
   "source": [
    "class MultiHeadAttention(krs.layers.Layer):\n",
    "    def __init__(self, d_model, num_heads):\n",
    "        super(MultiHeadAttention, self).__init__()\n",
    "        self.num_heads = num_heads\n",
    "        self.d_model = d_model\n",
    "\n",
    "        assert d_model % self.num_heads == 0\n",
    "\n",
    "        self.depth = d_model // self.num_heads # The dimensions of Q, K, V are called depth\n",
    "\n",
    "        # the input of these 3 layers are the same: X\n",
    "        self.wq = krs.layers.Dense(d_model,kernel_regularizer=krs.regularizers.l2(l=lmbda_l2))\n",
    "        self.wk = krs.layers.Dense(d_model,kernel_regularizer=krs.regularizers.l2(l=lmbda_l2))\n",
    "        self.wv = krs.layers.Dense(d_model,kernel_regularizer=krs.regularizers.l2(l=lmbda_l2))\n",
    "\n",
    "        self.dense = tf.keras.layers.Dense(d_model,kernel_regularizer=krs.regularizers.l2(l=lmbda_l2))\n",
    "    \n",
    "    # reshape the Q,K,V \n",
    "    def split_heads(self, x, batch_size):\n",
    "        x = tf.reshape(x, (batch_size, -1, self.num_heads, self.depth))\n",
    "        return tf.transpose(x, perm=[0, 2, 1, 3])\n",
    "    \n",
    "    def call(self, v, k, q, mask):\n",
    "        batch_size = tf.shape(q)[0]\n",
    "        \n",
    "        # learn the Q,K,V matrices (the layers' weightes)\n",
    "        q = self.wq(q)\n",
    "        k = self.wk(k)\n",
    "        v = self.wv(v)\n",
    "        \n",
    "        # reshape them\n",
    "        q = self.split_heads(q, batch_size)\n",
    "        k = self.split_heads(k, batch_size)\n",
    "        v = self.split_heads(v, batch_size)\n",
    "\n",
    "        scaled_attention, attention_weights = scaled_dot_product_attention(\n",
    "            q, k, v, mask)\n",
    "\n",
    "        scaled_attention = tf.transpose(scaled_attention, perm=[0, 2, 1, 3])\n",
    "        \n",
    "        # the last dens layer expect one vector so we use concat\n",
    "        concat_attention = tf.reshape(scaled_attention, (batch_size, -1, self.d_model))\n",
    "        output = self.dense(concat_attention)\n",
    "            \n",
    "        return output, attention_weights"
   ]
  },
  {
   "cell_type": "code",
   "execution_count": 77,
   "id": "41f4888d",
   "metadata": {},
   "outputs": [],
   "source": [
    "def get_angles(position, i, d_model):\n",
    "    angle_rates = 1 / np.power(10000, (2 * (i // 2)) / np.float32(d_model))\n",
    "    return position * angle_rates\n",
    "\n",
    "# The dimension of positional encodings is the same as\n",
    "# the embeddings (d_model) for facilitating the summation of both.\n",
    "def positional_encoding(position, d_model):\n",
    "    angle_rads = get_angles(\n",
    "        np.arange(position)[:, np.newaxis],\n",
    "        np.arange(d_model)[np.newaxis, :],\n",
    "        d_model\n",
    "    )\n",
    "\n",
    "    # apply sin to even indices in the array; 2i\n",
    "    angle_rads[:, 0::2] = np.sin(angle_rads[:, 0::2])\n",
    "\n",
    "    # apply cos to odd indices in the array; 2i+1\n",
    "    angle_rads[:, 1::2] = np.cos(angle_rads[:, 1::2])\n",
    "\n",
    "    pos_encoding = angle_rads[np.newaxis, ...]\n",
    "\n",
    "    return tf.cast(pos_encoding, dtype=tf.float32)"
   ]
  },
  {
   "cell_type": "code",
   "execution_count": 79,
   "id": "236eaaf3",
   "metadata": {},
   "outputs": [
    {
     "name": "stdout",
     "output_type": "stream",
     "text": [
      "Loading glove...\n",
      "GloVe  50  loaded!\n",
      "Loading glove...\n",
      "GloVe  50  loaded!\n"
     ]
    }
   ],
   "source": [
    " # Making the embedding mtrix\n",
    "def make_embedding_layer(vocab_len, wordtoix, embedding_dim=200, glove=True, glove_path= '../glove'):\n",
    "    if glove == False:\n",
    "        print('Just a zero matrix loaded')\n",
    "        embedding_matrix = np.zeros((vocab_len, embedding_dim)) # just a zero matrix \n",
    "    else:\n",
    "        print('Loading glove...')\n",
    "        glove_dir = glove_path\n",
    "        embeddings_index = {} \n",
    "        f = open(os.path.join('./glove.6B.50d.txt'), encoding=\"utf-8\")\n",
    "        for line in f:\n",
    "            values = line.split()\n",
    "            word = values[0]\n",
    "            coefs = np.asarray(values[1:], dtype='float32')\n",
    "            embeddings_index[word] = coefs\n",
    "        f.close()\n",
    "        # Get n-dim dense vector for each of the vocab_rocc\n",
    "        embedding_matrix = np.zeros((vocab_len, embedding_dim)) # to import as weights for Keras Embedding layer\n",
    "        for word, i in wordtoix.items():\n",
    "            embedding_vector = embeddings_index.get(word)\n",
    "            if embedding_vector is not None:\n",
    "                # Words not found in the embedding index will be all zeros\n",
    "                embedding_matrix[i] = embedding_vector\n",
    "        \n",
    "        print(\"GloVe \",embedding_dim, ' loaded!')\n",
    "\n",
    "    embedding_layer = Embedding(vocab_len, embedding_dim, mask_zero=True, trainable=False) # we have a limited vocab so we \n",
    "                                                                                           # do not train the embedding layer\n",
    "                                                                                           # we use 0 as padding so => mask_zero=True\n",
    "    embedding_layer.build((None,))\n",
    "    embedding_layer.set_weights([embedding_matrix])\n",
    "    return embedding_layer\n",
    "\n",
    "embeddings_encoder = make_embedding_layer(encoder_vocab_size, wordtoix_enc, embedding_dim=embedding_dim, glove=True)\n",
    "embeddings_decoder = make_embedding_layer(decoder_vocab_size, wordtoix_dec, embedding_dim=embedding_dim, glove=True)\n"
   ]
  },
  {
   "cell_type": "code",
   "execution_count": 80,
   "id": "1249d39a",
   "metadata": {},
   "outputs": [],
   "source": [
    "# hyper-params\n",
    "init_lr = 1e-3\n",
    "lmbda_l2 = 0.1\n",
    "d_out_rate = 0.1 # tested 0.4, 0.3, 0.1 values this 0.1 seems to be the best\n",
    "num_layers = 4 # chaged from 4 to 5 to learn better\n",
    "d_model = embedding_dim # d_model is the representation dimension or embedding dimension of a word (usually in the range 128–512)\n",
    "dff = 512 # number of neurons in feed forward network\n",
    "num_heads = 5 # first it was 8 i chenged it to 10 to use embd =300d"
   ]
  },
  {
   "cell_type": "code",
   "execution_count": 81,
   "id": "6f3e75cb",
   "metadata": {},
   "outputs": [],
   "source": [
    "# The Point-wise feed-forward network block is essentially a \n",
    "# two-layer linear transformation which is used identically throughout the model\n",
    "def point_wise_feed_forward_network(d_model, dff):\n",
    "    return krs.Sequential([\n",
    "        krs.layers.Dense(dff, activation='relu',kernel_regularizer=krs.regularizers.l2(l=lmbda_l2)),\n",
    "        krs.layers.Dense(d_model,kernel_regularizer=krs.regularizers.l2(l=lmbda_l2))\n",
    "    ])"
   ]
  },
  {
   "cell_type": "code",
   "execution_count": 82,
   "id": "e97e8cea",
   "metadata": {},
   "outputs": [],
   "source": [
    "class EncoderLayer(krs.layers.Layer):\n",
    "    def __init__(self, d_model, num_heads, dff, rate=d_out_rate):\n",
    "        super(EncoderLayer, self).__init__()\n",
    "\n",
    "        self.mha = MultiHeadAttention(d_model, num_heads)\n",
    "        self.ffn = point_wise_feed_forward_network(d_model, dff)\n",
    "\n",
    "        self.layernorm1 = krs.layers.LayerNormalization(epsilon=1e-6)\n",
    "        self.layernorm2 = krs.layers.LayerNormalization(epsilon=1e-6)\n",
    "\n",
    "        self.dropout1 = krs.layers.Dropout(rate)\n",
    "        self.dropout2 = krs.layers.Dropout(rate)\n",
    "   \n",
    "    # it has 1 layer of multi-headed attention\n",
    "    def call(self, x, training, mask):\n",
    "        attn_output, _ = self.mha(x, x, x, mask)\n",
    "        attn_output = self.dropout1(attn_output, training=training)\n",
    "        out1 = self.layernorm1(x + attn_output)\n",
    "\n",
    "        ffn_output = self.ffn(out1)\n",
    "        ffn_output = self.dropout2(ffn_output, training=training)\n",
    "        out2 = self.layernorm2(out1 + ffn_output)\n",
    "\n",
    "        return out2"
   ]
  },
  {
   "cell_type": "code",
   "execution_count": 83,
   "id": "28cd6662",
   "metadata": {},
   "outputs": [],
   "source": [
    "class DecoderLayer(krs.layers.Layer):\n",
    "    def __init__(self, d_model, num_heads, dff, rate=d_out_rate):\n",
    "        super(DecoderLayer, self).__init__()\n",
    "\n",
    "        self.mha1 = MultiHeadAttention(d_model, num_heads)\n",
    "        self.mha2 = MultiHeadAttention(d_model, num_heads)\n",
    "\n",
    "        self.ffn = point_wise_feed_forward_network(d_model, dff)\n",
    "\n",
    "        self.layernorm1 = krs.layers.LayerNormalization(epsilon=1e-6)\n",
    "        self.layernorm2 = krs.layers.LayerNormalization(epsilon=1e-6)\n",
    "        self.layernorm3 = krs.layers.LayerNormalization(epsilon=1e-6)\n",
    "\n",
    "        self.dropout1 = krs.layers.Dropout(rate)\n",
    "        self.dropout2 = krs.layers.Dropout(rate)\n",
    "        self.dropout3 = krs.layers.Dropout(rate)\n",
    "    \n",
    "    # it has 2 layers of multi-headed attention\n",
    "    def call(self, x, enc_output, training, look_ahead_mask, padding_mask):\n",
    "        attn1, attn_weights_block1 = self.mha1(x, x, x, look_ahead_mask)\n",
    "        attn1 = self.dropout1(attn1, training=training)\n",
    "        out1 = self.layernorm1(attn1 + x)\n",
    "\n",
    "        attn2, attn_weights_block2 = self.mha2(enc_output, enc_output, out1, padding_mask)\n",
    "        attn2 = self.dropout2(attn2, training=training)\n",
    "        out2 = self.layernorm2(attn2 + out1)\n",
    "\n",
    "        ffn_output = self.ffn(out2)\n",
    "        ffn_output = self.dropout3(ffn_output, training=training)\n",
    "        out3 = self.layernorm3(ffn_output + out2)\n",
    "\n",
    "        return out3, attn_weights_block1, attn_weights_block2"
   ]
  },
  {
   "cell_type": "code",
   "execution_count": 84,
   "id": "a412b276",
   "metadata": {},
   "outputs": [],
   "source": [
    "class Encoder(krs.layers.Layer):\n",
    "    def __init__(self, num_layers, d_model, num_heads, dff, input_vocab_size, maximum_position_encoding, rate=d_out_rate):\n",
    "        super(Encoder, self).__init__()\n",
    "\n",
    "        self.d_model = d_model\n",
    "        self.num_layers = num_layers\n",
    "\n",
    "        self.embedding = embeddings_encoder\n",
    "        self.pos_encoding = positional_encoding(maximum_position_encoding, self.d_model)\n",
    "\n",
    "        self.enc_layers = [EncoderLayer(d_model, num_heads, dff, rate) for _ in range(num_layers)]\n",
    "\n",
    "        self.dropout = krs.layers.Dropout(rate)\n",
    "        self.dropout_embd = krs.layers.Dropout(rate)\n",
    "        \n",
    "    def call(self, x, training, mask):\n",
    "        seq_len = tf.shape(x)[1]\n",
    "\n",
    "        x = self.embedding(x)\n",
    "        x = self.dropout_embd(x, training=training) # dropout added to encoder input changed from nothing to this\n",
    "        x *= tf.math.sqrt(tf.cast(self.d_model, tf.float32))\n",
    "        x += self.pos_encoding[:, :seq_len, :]\n",
    "\n",
    "        x = self.dropout(x, training=training)\n",
    "    \n",
    "        for i in range(self.num_layers):\n",
    "            x = self.enc_layers[i](x, training, mask)\n",
    "    \n",
    "        return x"
   ]
  },
  {
   "cell_type": "code",
   "execution_count": 85,
   "id": "a5ad77b8",
   "metadata": {},
   "outputs": [],
   "source": [
    "class Decoder(krs.layers.Layer):\n",
    "    def __init__(self, num_layers, d_model, num_heads, dff, target_vocab_size, maximum_position_encoding, rate=d_out_rate):\n",
    "        super(Decoder, self).__init__()\n",
    "\n",
    "        self.d_model = d_model\n",
    "        self.num_layers = num_layers\n",
    "\n",
    "        self.embedding = embeddings_decoder\n",
    "        self.pos_encoding = positional_encoding(maximum_position_encoding, d_model)\n",
    "\n",
    "        self.dec_layers = [DecoderLayer(d_model, num_heads, dff, rate) for _ in range(num_layers)] # a list of decoder layers\n",
    "        self.dropout = krs.layers.Dropout(rate)\n",
    "    \n",
    "    def call(self, x, enc_output, training, look_ahead_mask, padding_mask):\n",
    "        seq_len = tf.shape(x)[1]\n",
    "        attention_weights = {}\n",
    "\n",
    "        x = self.embedding(x)\n",
    "        x *= tf.math.sqrt(tf.cast(self.d_model, tf.float32))\n",
    "        x += self.pos_encoding[:, :seq_len, :]\n",
    "\n",
    "        x = self.dropout(x, training=training)\n",
    "\n",
    "        for i in range(self.num_layers):\n",
    "            x, block1, block2 = self.dec_layers[i](x, enc_output, training, look_ahead_mask, padding_mask) # enc_output is fed into it\n",
    "\n",
    "            attention_weights['decoder_layer{}_block1'.format(i+1)] = block1\n",
    "            attention_weights['decoder_layer{}_block2'.format(i+1)] = block2\n",
    "    \n",
    "        return x, attention_weights"
   ]
  },
  {
   "cell_type": "code",
   "execution_count": 86,
   "id": "871ccb18",
   "metadata": {},
   "outputs": [],
   "source": [
    "class Transformer(krs.Model):\n",
    "    def __init__(self, num_layers, d_model, num_heads, dff, input_vocab_size,\n",
    "                                     target_vocab_size, pe_input, pe_target, rate=d_out_rate):\n",
    "        super(Transformer, self).__init__()\n",
    "\n",
    "        self.encoder = Encoder(num_layers, d_model, num_heads, dff, input_vocab_size, pe_input, rate)\n",
    "\n",
    "        self.decoder = Decoder(num_layers, d_model, num_heads, dff, target_vocab_size, pe_target, rate)\n",
    "\n",
    "        self.final_layer = krs.layers.Dense(target_vocab_size, kernel_regularizer=krs.regularizers.l2(l=lmbda_l2))\n",
    "        \n",
    "        \n",
    "    # training argument is used in dropout inputs\n",
    "    def call(self, inp, tar, training, enc_padding_mask, look_ahead_mask, dec_padding_mask):\n",
    "        enc_output = self.encoder(inp, training, enc_padding_mask)\n",
    "       \n",
    "        dec_output, attention_weights = self.decoder(tar, enc_output, training, look_ahead_mask, dec_padding_mask)\n",
    "\n",
    "        final_output = self.final_layer(dec_output)\n",
    "\n",
    "        return final_output, attention_weights"
   ]
  },
  {
   "cell_type": "code",
   "execution_count": 87,
   "id": "22b6419b",
   "metadata": {},
   "outputs": [],
   "source": [
    "transformer = Transformer(\n",
    "    num_layers, \n",
    "    d_model, \n",
    "    num_heads, \n",
    "    dff,\n",
    "    encoder_vocab_size, \n",
    "    decoder_vocab_size, \n",
    "    pe_input=max_len_news,\n",
    "    pe_target=max_len_summary,\n",
    ")"
   ]
  },
  {
   "cell_type": "code",
   "execution_count": 88,
   "id": "9600c876",
   "metadata": {},
   "outputs": [],
   "source": [
    "# Padding mask for masking \"pad\" sequences so \n",
    "# they won't affect the loss\n",
    "def create_padding_mask(seq):\n",
    "    seq = tf.cast(tf.math.equal(seq, 0), tf.float32)\n",
    "    return seq[:, tf.newaxis, tf.newaxis, :]\n",
    "\n",
    "# Lookahead mask for masking future words from\n",
    "# contributing in prediction of current words in self attention\n",
    "def create_look_ahead_mask(size):\n",
    "    mask = 1 - tf.linalg.band_part(tf.ones((size, size)), -1, 0)\n",
    "    return mask"
   ]
  },
  {
   "cell_type": "code",
   "execution_count": 89,
   "id": "0b373fd5",
   "metadata": {},
   "outputs": [],
   "source": [
    "# this function is use in training step\n",
    "def create_masks(inp, tar):\n",
    "    enc_padding_mask = create_padding_mask(inp)\n",
    "    dec_padding_mask = create_padding_mask(inp)\n",
    "\n",
    "    look_ahead_mask = create_look_ahead_mask(tf.shape(tar)[1])\n",
    "    dec_target_padding_mask = create_padding_mask(tar)\n",
    "        \n",
    "    combined_mask = tf.maximum(dec_target_padding_mask, look_ahead_mask)\n",
    "  \n",
    "    return enc_padding_mask, combined_mask, dec_padding_mask"
   ]
  },
  {
   "cell_type": "code",
   "execution_count": 90,
   "id": "b6418cf7",
   "metadata": {},
   "outputs": [],
   "source": [
    "lr_schedule = krs.optimizers.schedules.ExponentialDecay(\n",
    "    initial_learning_rate=init_lr, # originally was 1e-5\n",
    "    decay_steps=4000, # approximately 5 epochs\n",
    "    decay_rate=0.95) # originally was 0.9"
   ]
  },
  {
   "cell_type": "code",
   "execution_count": 91,
   "id": "897589c0",
   "metadata": {},
   "outputs": [],
   "source": [
    "optimizer2 = Adam(lr_schedule , beta_1=0.9, beta_2=0.98, epsilon=1e-9) # changed to init\n",
    "loss_object = SparseCategoricalCrossentropy(from_logits=True, reduction='none')"
   ]
  },
  {
   "cell_type": "code",
   "execution_count": 92,
   "id": "d064fb48",
   "metadata": {},
   "outputs": [],
   "source": [
    "def loss_function(real, pred, l2= False):\n",
    " \n",
    "    if l2:\n",
    "        lambda_ = 0.0001\n",
    "        l2_norms = [tf.nn.l2_loss(v) for v in transformer.trainable_variables]\n",
    "        l2_norm = tf.reduce_sum(l2_norms)\n",
    "        l2_value = lambda_ * l2_norm\n",
    "        loss_ = loss_object(real, pred) + l2_value\n",
    "    else:\n",
    "        loss_ = loss_object(real, pred) \n",
    "    \n",
    "    mask = tf.math.logical_not(tf.math.equal(real, 0))\n",
    "    mask = tf.cast(mask, dtype=loss_.dtype)\n",
    "    loss_ *= mask\n",
    "    \n",
    "    return tf.reduce_sum(loss_)/tf.reduce_sum(mask)"
   ]
  },
  {
   "cell_type": "code",
   "execution_count": 93,
   "id": "8256fe0d",
   "metadata": {},
   "outputs": [],
   "source": [
    "checkpoint_path4 =\"./checkpoints4\"\n",
    "\n",
    "ckpt4 = tf.train.Checkpoint(transformer=transformer, optimizer=optimizer2)\n",
    "\n",
    "ckpt_manager4 = tf.train.CheckpointManager(ckpt4, checkpoint_path4, max_to_keep=100)\n",
    "\n",
    "# if ckpt_manager4.latest_checkpoint:\n",
    "#     ckpt4.restore(ckpt_manager4.latest_checkpoint)\n",
    "#     print ('Latest checkpoint restored!!')"
   ]
  },
  {
   "cell_type": "code",
   "execution_count": 94,
   "id": "54d31c95",
   "metadata": {},
   "outputs": [],
   "source": [
    "def evaluate(input_document):\n",
    "    input_document = document_tokenizer.texts_to_sequences([input_document])\n",
    "    input_document = krs.preprocessing.sequence.pad_sequences(input_document, maxlen=max_len_news, \n",
    "                                                                           padding='post', truncating='post')\n",
    "    \n",
    "    encoder_input = tf.expand_dims(input_document[0], 0)\n",
    "\n",
    "    decoder_input = [summary_tokenizer.word_index[start_token]]\n",
    "    output = tf.expand_dims(decoder_input, 0)\n",
    "    \n",
    "    for i in range(max_len_summary):\n",
    "        enc_padding_mask, combined_mask, dec_padding_mask = create_masks(encoder_input, output)\n",
    "\n",
    "        predictions, attention_weights = transformer(\n",
    "            encoder_input, \n",
    "            output,\n",
    "            False,\n",
    "            enc_padding_mask,\n",
    "            combined_mask,\n",
    "            dec_padding_mask\n",
    "        )\n",
    "\n",
    "        predictions = predictions[: ,-1:, :]\n",
    "        predicted_id = tf.cast(tf.argmax(predictions, axis=-1), tf.int32)\n",
    "        # stop prediciting if it reached end_token\n",
    "        if predicted_id == summary_tokenizer.word_index[end_token]:\n",
    "            return tf.squeeze(output, axis=0), attention_weights\n",
    "\n",
    "        output = tf.concat([output, predicted_id], axis=-1)\n",
    "    return tf.squeeze(output, axis=0), attention_weights\n",
    "\n",
    "def summarize(input_document):\n",
    "    # not considering attention weights for now, can be used to plot attention heatmaps in the future\n",
    "    summarized = evaluate(input_document=input_document)[0].numpy()\n",
    "    summarized = np.expand_dims(summarized[1:], 0)  # remove start_token\n",
    "    return summary_tokenizer.sequences_to_texts(summarized)[0]  # since the"
   ]
  },
  {
   "cell_type": "code",
   "execution_count": 95,
   "id": "ddaeed04",
   "metadata": {},
   "outputs": [],
   "source": [
    "def validate():\n",
    "    print('validation started ...')\n",
    "    val_loss.reset_states()\n",
    "    for (batch, (inp, tar)) in enumerate(dataset_val):    \n",
    "        tar_inp = tar[:, :-1] # <startseq> hi im moein\n",
    "        tar_real = tar[:, 1:] # hi im moein <endseq>\n",
    "\n",
    "        enc_padding_mask, combined_mask, dec_padding_mask = create_masks(inp, tar_inp)\n",
    "\n",
    "        # Operations are recorded if they are executed within this context manager\n",
    "        # and at least one of their inputs is being \"watched\". Trainable variables are automatically watched\n",
    "        predictions, _ = transformer(\n",
    "            inp, tar_inp, \n",
    "            False, \n",
    "            enc_padding_mask, \n",
    "            combined_mask, \n",
    "            dec_padding_mask\n",
    "        )\n",
    "        loss = loss_function(tar_real, predictions)\n",
    "        val_loss(loss)\n",
    "    print('\\n* Validation loss: {} '.format(val_loss.result()) )\n",
    "    return val_loss.result()\n",
    "# validate()"
   ]
  },
  {
   "cell_type": "code",
   "execution_count": 96,
   "id": "a7570e0d",
   "metadata": {},
   "outputs": [],
   "source": [
    "@tf.function # Compiles a function into a callable TensorFlow graph\n",
    "def train_step(inp, tar):\n",
    "    tar_inp = tar[:, :-1] # <startseq> hi im moein\n",
    "    tar_real = tar[:, 1:] # hi im moein <endseq>\n",
    "\n",
    "    enc_padding_mask, combined_mask, dec_padding_mask = create_masks(inp, tar_inp)\n",
    "    \n",
    "    # Operations are recorded if they are executed within this context manager\n",
    "    # and at least one of their inputs is being \"watched\". Trainable variables are automatically watched\n",
    "    with tf.GradientTape() as tape:\n",
    "        predictions, _ = transformer(\n",
    "            inp, tar_inp, \n",
    "            True, \n",
    "            enc_padding_mask, \n",
    "            combined_mask, \n",
    "            dec_padding_mask\n",
    "        )\n",
    "        loss = loss_function(tar_real, predictions)\n",
    "\n",
    "    gradients = tape.gradient(loss, transformer.trainable_variables)    \n",
    "    optimizer2.apply_gradients(zip(gradients, transformer.trainable_variables))\n",
    "    \n",
    "    # mean the loss with new computed  loss of the step\n",
    "    train_loss(loss)"
   ]
  },
  {
   "cell_type": "code",
   "execution_count": 97,
   "id": "2b63e6da",
   "metadata": {},
   "outputs": [],
   "source": [
    "history={'val':[],'train':[]}\n",
    "EPOCHS = 300\n",
    "not_progressing = 0\n",
    "# Computes the (weighted) mean of the given loss values.\n",
    "train_loss = krs.metrics.Mean(name='train_loss')\n",
    "val_loss = krs.metrics.Mean(name='val_loss')"
   ]
  },
  {
   "cell_type": "code",
   "execution_count": 98,
   "id": "d3af4604",
   "metadata": {},
   "outputs": [
    {
     "data": {
      "text/plain": [
       "{'lmbda_l2': 0.1,\n",
       " 'd_out_rate': 0.1,\n",
       " 'num_layers': 4,\n",
       " 'd_model': 50,\n",
       " 'dff': 512,\n",
       " 'num_heads': 5,\n",
       " 'init_lr': 0.001}"
      ]
     },
     "execution_count": 98,
     "metadata": {},
     "output_type": "execute_result"
    }
   ],
   "source": [
    "params = {\n",
    "'lmbda_l2' : lmbda_l2,\n",
    "'d_out_rate' :d_out_rate,\n",
    "'num_layers' : num_layers ,\n",
    "'d_model' : d_model  ,\n",
    "'dff' : dff ,\n",
    "'num_heads' : num_heads,\n",
    "'init_lr':init_lr}\n",
    "params"
   ]
  },
  {
   "cell_type": "code",
   "execution_count": 99,
   "id": "a840fc36",
   "metadata": {},
   "outputs": [],
   "source": [
    "ep = 1\n",
    "best_val_loss = np.inf\n",
    "i1,i2,i3,i4 = np.random.randint(len(summaries_val)),np.random.randint(len(summaries_val)),np.random.randint(len(summaries_val)),np.random.randint(len(summaries_val))"
   ]
  },
  {
   "cell_type": "code",
   "execution_count": 101,
   "id": "678da578",
   "metadata": {},
   "outputs": [
    {
     "name": "stdout",
     "output_type": "stream",
     "text": [
      "{'lmbda_l2': 0.1, 'd_out_rate': 0.1, 'num_layers': 4, 'd_model': 50, 'dff': 512, 'num_heads': 5, 'init_lr': 0.001}\n",
      "########################################\n",
      "Epoch 1 Batch 0 Loss 6.0844\n",
      "Epoch 1 Batch 150 Loss 5.9796\n",
      "Epoch 1 Batch 300 Loss 5.9269\n",
      "Epoch 1 Batch 450 Loss 5.8831\n",
      "Epoch 1 Batch 600 Loss 5.8431\n",
      "Epoch 1 Batch 750 Loss 5.8114\n",
      "\n",
      "the worlds largest <UNK> <UNK> <UNK> <UNK> <UNK> <UNK> has been released the worlds largest <UNK> <UNK> <UNK> <UNK> <UNK> <UNK> <UNK> <UNK> <UNK> <UNK> <UNK> <UNK> <UNK> <UNK> <UNK> <UNK> <UNK> <UNK> <UNK> <UNK> <UNK> <UNK> <UNK> <UNK> <UNK> <UNK> <UNK> <UNK> <UNK> <UNK> <UNK> <UNK> <UNK> <UNK> <UNK> <UNK> <UNK> <UNK> <UNK> <UNK>\n",
      "the supreme court on wednesday said that the government has been killed by the government to the government to the government to the government to the government to the government the government to the government the government the government has been imposed the government to the government to the government the government the government said the government has been imposed of the\n",
      "a video of the video of the video of the video shows the video shows the video shows the video shows the video shows the video shows the video shows the video shows the video shows the video shows the video shows the video features the video features the video features the video features the video features of the video\n",
      "the rbi of the rbi of the rbi of the rbi of the rbi of the rbi of the rbi of the rbi in the rbi of the nse nifty the nse nifty the nse has been released on friday the rbi in the rbi in the rbi in the second quarter of the highest of the highest of the highest\n",
      "\n",
      "validation started ...\n",
      "\n",
      "* Validation loss: 5.491483211517334 \n",
      "\n",
      "* Train Loss 5.8058\n",
      "\n",
      "Saving checkpoint for epoch 1 at checkpoints4\\ckpt-2\n"
     ]
    },
    {
     "data": {
      "image/png": "[encoded data removed]",
      "text/plain": [
       "<Figure size 640x480 with 1 Axes>"
      ]
     },
     "metadata": {},
     "output_type": "display_data"
    },
    {
     "name": "stdout",
     "output_type": "stream",
     "text": [
      "smallest val loss: (1, 5.491483)\n",
      "\n",
      "Time taken for this epoch: 1580.60 secs\n",
      "\n",
      "========================================\n",
      "Epoch 2 Batch 0 Loss 5.5374\n",
      "Epoch 2 Batch 150 Loss 5.5779\n",
      "Epoch 2 Batch 300 Loss 5.5570\n",
      "Epoch 2 Batch 450 Loss 5.5356\n",
      "Epoch 2 Batch 600 Loss 5.5182\n",
      "Epoch 2 Batch 750 Loss 5.5013\n",
      "\n",
      "the new trailer of the new york has been released a new version of the <UNK> <UNK> <UNK> <UNK> <UNK> <UNK> <UNK> <UNK> <UNK> <UNK> <UNK> <UNK> <UNK> <UNK> <UNK> <UNK> <UNK> <UNK> <UNK> <UNK> <UNK> <UNK> <UNK> <UNK> <UNK> <UNK> and <UNK> <UNK> <UNK> <UNK> <UNK> <UNK> <UNK> <UNK> <UNK> <UNK> and <UNK>\n",
      "the us government has said that the government will be able to be able to the government to be able to the government the government the government said the government has been imposed by the government to be imposed by the government and the government will be imposed by the government to be imposed\n",
      "a video of the video of the video of the video of the video of the video of the video of the video shows the video shows the video shows the video shows the video shows the video shows the video shows the video of the video of the video of the video of the video of the video of the video\n",
      "the government has said that the government will be the government to be the government to be able to be able to be able to the government the government the government said the government has been asked to be the government to be the government to be used to the government the government the government said\n",
      "\n",
      "validation started ...\n",
      "\n",
      "* Validation loss: 5.283219337463379 \n",
      "\n",
      "* Train Loss 5.4980\n",
      "\n",
      "Saving checkpoint for epoch 2 at checkpoints4\\ckpt-3\n"
     ]
    },
    {
     "data": {
      "image/png": "[encoded data removed]",
      "text/plain": [
       "<Figure size 640x480 with 1 Axes>"
      ]
     },
     "metadata": {},
     "output_type": "display_data"
    },
    {
     "name": "stdout",
     "output_type": "stream",
     "text": [
      "smallest val loss: (2, 5.2832193)\n",
      "\n",
      "Time taken for this epoch: 1510.37 secs\n",
      "\n",
      "========================================\n",
      "Epoch 3 Batch 0 Loss 5.3731\n",
      "Epoch 3 Batch 150 Loss 5.3641\n",
      "Epoch 3 Batch 300 Loss 5.3508\n",
      "Epoch 3 Batch 450 Loss 5.3413\n",
      "Epoch 3 Batch 600 Loss 5.3322\n",
      "Epoch 3 Batch 750 Loss 5.3234\n",
      "\n",
      "the trailer of the new york has been released on the first version of the <UNK> <UNK> <UNK> <UNK> <UNK> <UNK> <UNK> <UNK> <UNK> <UNK> <UNK> <UNK> <UNK> <UNK> <UNK> <UNK> <UNK> <UNK> <UNK> and <UNK> <UNK> <UNK> <UNK> <UNK> <UNK> and <UNK> <UNK> <UNK> <UNK> <UNK> and <UNK> <UNK> <UNK> <UNK> and <UNK>\n",
      "the indian government has said that the government is not not not not to be able to be able to be able to be able to be able to be able to the us to be able to be able to be able to the us to be able to be able to be able to the us\n",
      "a new yorkbased startup has created a <UNK> <UNK> <UNK> <UNK> <UNK> <UNK> <UNK> <UNK> <UNK> <UNK> <UNK> <UNK> <UNK> <UNK> <UNK> <UNK> <UNK> <UNK> <UNK> <UNK> <UNK> <UNK> <UNK> <UNK> <UNK> <UNK> <UNK> <UNK> <UNK> <UNK> <UNK> <UNK> <UNK> <UNK> <UNK> <UNK> <UNK> <UNK> <UNK> <UNK> <UNK> <UNK> <UNK> <UNK> <UNK> <UNK> <UNK> <UNK> <UNK>\n",
      "the rbi on tuesday said that the rbi will be the first time of the rbi of the rbi governor raghuram rajan said that the government is not the first time to be the rbi in the rbi further said that the rbi will be the rbi in the rbi further the rbi of the rbi\n",
      "\n",
      "validation started ...\n",
      "\n",
      "* Validation loss: 5.144344329833984 \n",
      "\n",
      "* Train Loss 5.3217\n",
      "\n",
      "Saving checkpoint for epoch 3 at checkpoints4\\ckpt-4\n"
     ]
    },
    {
     "data": {
      "image/png": "[encoded data removed]",
      "text/plain": [
       "<Figure size 640x480 with 1 Axes>"
      ]
     },
     "metadata": {},
     "output_type": "display_data"
    },
    {
     "name": "stdout",
     "output_type": "stream",
     "text": [
      "smallest val loss: (3, 5.1443443)\n",
      "\n",
      "Time taken for this epoch: 1521.19 secs\n",
      "\n",
      "========================================\n",
      "Epoch 4 Batch 0 Loss 5.2453\n",
      "Epoch 4 Batch 150 Loss 5.2206\n",
      "Epoch 4 Batch 300 Loss 5.2243\n",
      "Epoch 4 Batch 450 Loss 5.2189\n",
      "Epoch 4 Batch 600 Loss 5.2145\n",
      "Epoch 4 Batch 750 Loss 5.2101\n",
      "\n",
      "the first edition of the upcoming film series the upcoming film will be released on march the film will be released on march the film will be released on march the film will be released on march the film will be released on march\n",
      "the indian express india has been arrested in the country in the country of the country and the country the country has been arrested by the police said that the police have been arrested in the country and the police said that the police have been arrested in the police said that the police have been arrested in the attack\n",
      "a yearold video shows the video shows the video shows the video shows the video shows the video shows the video shows the video shows the video shows the video features a <UNK> <UNK> <UNK> <UNK> <UNK> <UNK> <UNK> <UNK> and <UNK> <UNK> <UNK> <UNK> <UNK> and <UNK> <UNK> <UNK> <UNK> <UNK>\n",
      "the rbi on wednesday said that the government will be the first time of the government will be able to be able to be able to be able to be able to make the <UNK> and <UNK> the government the government said the government has said that the government will be the government to be able to be able to be able\n",
      "\n",
      "validation started ...\n",
      "\n",
      "* Validation loss: 5.049407005310059 \n",
      "\n",
      "* Train Loss 5.2099\n"
     ]
    },
    {
     "data": {
      "image/png": "[encoded data removed]",
      "text/plain": [
       "<Figure size 640x480 with 1 Axes>"
      ]
     },
     "metadata": {},
     "output_type": "display_data"
    },
    {
     "name": "stdout",
     "output_type": "stream",
     "text": [
      "smallest val loss: (4, 5.049407)\n",
      "\n",
      "Time taken for this epoch: 1543.69 secs\n",
      "\n",
      "========================================\n",
      "Epoch 5 Batch 0 Loss 5.1361\n",
      "Epoch 5 Batch 150 Loss 5.1392\n",
      "Epoch 5 Batch 300 Loss 5.1364\n",
      "Epoch 5 Batch 450 Loss 5.1339\n",
      "Epoch 5 Batch 600 Loss 5.1345\n",
      "Epoch 5 Batch 750 Loss 5.1338\n",
      "\n",
      "the first edition of the <UNK> <UNK> <UNK> <UNK> <UNK> <UNK> <UNK> <UNK> <UNK> <UNK> <UNK> <UNK> <UNK> <UNK> <UNK> <UNK> <UNK> <UNK> <UNK> <UNK> <UNK> <UNK> <UNK> <UNK> <UNK> <UNK> <UNK> <UNK> <UNK> <UNK> <UNK> <UNK> <UNK> <UNK> <UNK> <UNK> <UNK> <UNK> <UNK> <UNK> <UNK> <UNK> <UNK> <UNK> <UNK> <UNK> <UNK> <UNK> <UNK> and <UNK>\n",
      "the us government has said that the government has been arrested in the country that the government has been arrested in the country the country the government has been arrested in the country the country the government said the government has been arrested in the state bank of the state bank of the government officials said\n",
      "a yearold video explores a <UNK> video of the video shows the video shows the video shows the video shows the video shows the video shows the video shows the video shows the video shows the video shows the video shows the video shows the video shows the video shows the video of the video is a <UNK>\n",
      "the government has said that the government has been the first of the government to increase the government to the government the government the government has said that the government is the government is the <UNK> of the government is the government to be the government to be the government to increase the government\n",
      "\n",
      "validation started ...\n",
      "\n",
      "* Validation loss: 4.9957356452941895 \n",
      "\n",
      "* Train Loss 5.1340\n",
      "\n",
      "Saving checkpoint for epoch 5 at checkpoints4\\ckpt-5\n"
     ]
    },
    {
     "data": {
      "image/png": "[encoded data removed]",
      "text/plain": [
       "<Figure size 640x480 with 1 Axes>"
      ]
     },
     "metadata": {},
     "output_type": "display_data"
    },
    {
     "name": "stdout",
     "output_type": "stream",
     "text": [
      "smallest val loss: (5, 4.9957356)\n",
      "\n",
      "Time taken for this epoch: 1522.95 secs\n",
      "\n",
      "========================================\n",
      "Epoch 6 Batch 0 Loss 5.1117\n",
      "Epoch 6 Batch 150 Loss 5.0806\n"
     ]
    },
    {
     "ename": "KeyboardInterrupt",
     "evalue": "",
     "output_type": "error",
     "traceback": [
      "\u001b[1;31m---------------------------------------------------------------------------\u001b[0m",
      "\u001b[1;31mKeyboardInterrupt\u001b[0m                         Traceback (most recent call last)",
      "Cell \u001b[1;32mIn[101], line 12\u001b[0m\n\u001b[0;32m      8\u001b[0m train_loss\u001b[38;5;241m.\u001b[39mreset_states()\n\u001b[0;32m     10\u001b[0m \u001b[38;5;28;01mfor\u001b[39;00m (batch, (inp, tar)) \u001b[38;5;129;01min\u001b[39;00m \u001b[38;5;28menumerate\u001b[39m(dataset):\n\u001b[1;32m---> 12\u001b[0m     \u001b[43mtrain_step\u001b[49m\u001b[43m(\u001b[49m\u001b[43minp\u001b[49m\u001b[43m,\u001b[49m\u001b[43m \u001b[49m\u001b[43mtar\u001b[49m\u001b[43m)\u001b[49m\n\u001b[0;32m     14\u001b[0m     \u001b[38;5;28;01mif\u001b[39;00m batch \u001b[38;5;241m%\u001b[39m \u001b[38;5;241m150\u001b[39m \u001b[38;5;241m==\u001b[39m \u001b[38;5;241m0\u001b[39m:\n\u001b[0;32m     15\u001b[0m         \u001b[38;5;28mprint\u001b[39m (\u001b[38;5;124m'\u001b[39m\u001b[38;5;124mEpoch \u001b[39m\u001b[38;5;132;01m{}\u001b[39;00m\u001b[38;5;124m Batch \u001b[39m\u001b[38;5;132;01m{}\u001b[39;00m\u001b[38;5;124m Loss \u001b[39m\u001b[38;5;132;01m{:.4f}\u001b[39;00m\u001b[38;5;124m'\u001b[39m\u001b[38;5;241m.\u001b[39mformat(epoch , batch, train_loss\u001b[38;5;241m.\u001b[39mresult()))\n",
      "File \u001b[1;32m~\\anaconda3\\lib\\site-packages\\tensorflow\\python\\util\\traceback_utils.py:150\u001b[0m, in \u001b[0;36mfilter_traceback.<locals>.error_handler\u001b[1;34m(*args, **kwargs)\u001b[0m\n\u001b[0;32m    148\u001b[0m filtered_tb \u001b[38;5;241m=\u001b[39m \u001b[38;5;28;01mNone\u001b[39;00m\n\u001b[0;32m    149\u001b[0m \u001b[38;5;28;01mtry\u001b[39;00m:\n\u001b[1;32m--> 150\u001b[0m   \u001b[38;5;28;01mreturn\u001b[39;00m fn(\u001b[38;5;241m*\u001b[39margs, \u001b[38;5;241m*\u001b[39m\u001b[38;5;241m*\u001b[39mkwargs)\n\u001b[0;32m    151\u001b[0m \u001b[38;5;28;01mexcept\u001b[39;00m \u001b[38;5;167;01mException\u001b[39;00m \u001b[38;5;28;01mas\u001b[39;00m e:\n\u001b[0;32m    152\u001b[0m   filtered_tb \u001b[38;5;241m=\u001b[39m _process_traceback_frames(e\u001b[38;5;241m.\u001b[39m__traceback__)\n",
      "File \u001b[1;32m~\\anaconda3\\lib\\site-packages\\tensorflow\\python\\eager\\polymorphic_function\\polymorphic_function.py:894\u001b[0m, in \u001b[0;36mFunction.__call__\u001b[1;34m(self, *args, **kwds)\u001b[0m\n\u001b[0;32m    891\u001b[0m compiler \u001b[38;5;241m=\u001b[39m \u001b[38;5;124m\"\u001b[39m\u001b[38;5;124mxla\u001b[39m\u001b[38;5;124m\"\u001b[39m \u001b[38;5;28;01mif\u001b[39;00m \u001b[38;5;28mself\u001b[39m\u001b[38;5;241m.\u001b[39m_jit_compile \u001b[38;5;28;01melse\u001b[39;00m \u001b[38;5;124m\"\u001b[39m\u001b[38;5;124mnonXla\u001b[39m\u001b[38;5;124m\"\u001b[39m\n\u001b[0;32m    893\u001b[0m \u001b[38;5;28;01mwith\u001b[39;00m OptionalXlaContext(\u001b[38;5;28mself\u001b[39m\u001b[38;5;241m.\u001b[39m_jit_compile):\n\u001b[1;32m--> 894\u001b[0m   result \u001b[38;5;241m=\u001b[39m \u001b[38;5;28mself\u001b[39m\u001b[38;5;241m.\u001b[39m_call(\u001b[38;5;241m*\u001b[39margs, \u001b[38;5;241m*\u001b[39m\u001b[38;5;241m*\u001b[39mkwds)\n\u001b[0;32m    896\u001b[0m new_tracing_count \u001b[38;5;241m=\u001b[39m \u001b[38;5;28mself\u001b[39m\u001b[38;5;241m.\u001b[39mexperimental_get_tracing_count()\n\u001b[0;32m    897\u001b[0m without_tracing \u001b[38;5;241m=\u001b[39m (tracing_count \u001b[38;5;241m==\u001b[39m new_tracing_count)\n",
      "File \u001b[1;32m~\\anaconda3\\lib\\site-packages\\tensorflow\\python\\eager\\polymorphic_function\\polymorphic_function.py:926\u001b[0m, in \u001b[0;36mFunction._call\u001b[1;34m(self, *args, **kwds)\u001b[0m\n\u001b[0;32m    923\u001b[0m   \u001b[38;5;28mself\u001b[39m\u001b[38;5;241m.\u001b[39m_lock\u001b[38;5;241m.\u001b[39mrelease()\n\u001b[0;32m    924\u001b[0m   \u001b[38;5;66;03m# In this case we have created variables on the first call, so we run the\u001b[39;00m\n\u001b[0;32m    925\u001b[0m   \u001b[38;5;66;03m# defunned version which is guaranteed to never create variables.\u001b[39;00m\n\u001b[1;32m--> 926\u001b[0m   \u001b[38;5;28;01mreturn\u001b[39;00m \u001b[38;5;28mself\u001b[39m\u001b[38;5;241m.\u001b[39m_no_variable_creation_fn(\u001b[38;5;241m*\u001b[39margs, \u001b[38;5;241m*\u001b[39m\u001b[38;5;241m*\u001b[39mkwds)  \u001b[38;5;66;03m# pylint: disable=not-callable\u001b[39;00m\n\u001b[0;32m    927\u001b[0m \u001b[38;5;28;01melif\u001b[39;00m \u001b[38;5;28mself\u001b[39m\u001b[38;5;241m.\u001b[39m_variable_creation_fn \u001b[38;5;129;01mis\u001b[39;00m \u001b[38;5;129;01mnot\u001b[39;00m \u001b[38;5;28;01mNone\u001b[39;00m:\n\u001b[0;32m    928\u001b[0m   \u001b[38;5;66;03m# Release the lock early so that multiple threads can perform the call\u001b[39;00m\n\u001b[0;32m    929\u001b[0m   \u001b[38;5;66;03m# in parallel.\u001b[39;00m\n\u001b[0;32m    930\u001b[0m   \u001b[38;5;28mself\u001b[39m\u001b[38;5;241m.\u001b[39m_lock\u001b[38;5;241m.\u001b[39mrelease()\n",
      "File \u001b[1;32m~\\anaconda3\\lib\\site-packages\\tensorflow\\python\\eager\\polymorphic_function\\tracing_compiler.py:143\u001b[0m, in \u001b[0;36mTracingCompiler.__call__\u001b[1;34m(self, *args, **kwargs)\u001b[0m\n\u001b[0;32m    140\u001b[0m \u001b[38;5;28;01mwith\u001b[39;00m \u001b[38;5;28mself\u001b[39m\u001b[38;5;241m.\u001b[39m_lock:\n\u001b[0;32m    141\u001b[0m   (concrete_function,\n\u001b[0;32m    142\u001b[0m    filtered_flat_args) \u001b[38;5;241m=\u001b[39m \u001b[38;5;28mself\u001b[39m\u001b[38;5;241m.\u001b[39m_maybe_define_function(args, kwargs)\n\u001b[1;32m--> 143\u001b[0m \u001b[38;5;28;01mreturn\u001b[39;00m \u001b[43mconcrete_function\u001b[49m\u001b[38;5;241;43m.\u001b[39;49m\u001b[43m_call_flat\u001b[49m\u001b[43m(\u001b[49m\n\u001b[0;32m    144\u001b[0m \u001b[43m    \u001b[49m\u001b[43mfiltered_flat_args\u001b[49m\u001b[43m,\u001b[49m\u001b[43m \u001b[49m\u001b[43mcaptured_inputs\u001b[49m\u001b[38;5;241;43m=\u001b[39;49m\u001b[43mconcrete_function\u001b[49m\u001b[38;5;241;43m.\u001b[39;49m\u001b[43mcaptured_inputs\u001b[49m\u001b[43m)\u001b[49m\n",
      "File \u001b[1;32m~\\anaconda3\\lib\\site-packages\\tensorflow\\python\\eager\\polymorphic_function\\monomorphic_function.py:1757\u001b[0m, in \u001b[0;36mConcreteFunction._call_flat\u001b[1;34m(self, args, captured_inputs, cancellation_manager)\u001b[0m\n\u001b[0;32m   1753\u001b[0m possible_gradient_type \u001b[38;5;241m=\u001b[39m gradients_util\u001b[38;5;241m.\u001b[39mPossibleTapeGradientTypes(args)\n\u001b[0;32m   1754\u001b[0m \u001b[38;5;28;01mif\u001b[39;00m (possible_gradient_type \u001b[38;5;241m==\u001b[39m gradients_util\u001b[38;5;241m.\u001b[39mPOSSIBLE_GRADIENT_TYPES_NONE\n\u001b[0;32m   1755\u001b[0m     \u001b[38;5;129;01mand\u001b[39;00m executing_eagerly):\n\u001b[0;32m   1756\u001b[0m   \u001b[38;5;66;03m# No tape is watching; skip to running the function.\u001b[39;00m\n\u001b[1;32m-> 1757\u001b[0m   \u001b[38;5;28;01mreturn\u001b[39;00m \u001b[38;5;28mself\u001b[39m\u001b[38;5;241m.\u001b[39m_build_call_outputs(\u001b[38;5;28;43mself\u001b[39;49m\u001b[38;5;241;43m.\u001b[39;49m\u001b[43m_inference_function\u001b[49m\u001b[38;5;241;43m.\u001b[39;49m\u001b[43mcall\u001b[49m\u001b[43m(\u001b[49m\n\u001b[0;32m   1758\u001b[0m \u001b[43m      \u001b[49m\u001b[43mctx\u001b[49m\u001b[43m,\u001b[49m\u001b[43m \u001b[49m\u001b[43margs\u001b[49m\u001b[43m,\u001b[49m\u001b[43m \u001b[49m\u001b[43mcancellation_manager\u001b[49m\u001b[38;5;241;43m=\u001b[39;49m\u001b[43mcancellation_manager\u001b[49m\u001b[43m)\u001b[49m)\n\u001b[0;32m   1759\u001b[0m forward_backward \u001b[38;5;241m=\u001b[39m \u001b[38;5;28mself\u001b[39m\u001b[38;5;241m.\u001b[39m_select_forward_and_backward_functions(\n\u001b[0;32m   1760\u001b[0m     args,\n\u001b[0;32m   1761\u001b[0m     possible_gradient_type,\n\u001b[0;32m   1762\u001b[0m     executing_eagerly)\n\u001b[0;32m   1763\u001b[0m forward_function, args_with_tangents \u001b[38;5;241m=\u001b[39m forward_backward\u001b[38;5;241m.\u001b[39mforward()\n",
      "File \u001b[1;32m~\\anaconda3\\lib\\site-packages\\tensorflow\\python\\eager\\polymorphic_function\\monomorphic_function.py:381\u001b[0m, in \u001b[0;36m_EagerDefinedFunction.call\u001b[1;34m(self, ctx, args, cancellation_manager)\u001b[0m\n\u001b[0;32m    379\u001b[0m \u001b[38;5;28;01mwith\u001b[39;00m _InterpolateFunctionError(\u001b[38;5;28mself\u001b[39m):\n\u001b[0;32m    380\u001b[0m   \u001b[38;5;28;01mif\u001b[39;00m cancellation_manager \u001b[38;5;129;01mis\u001b[39;00m \u001b[38;5;28;01mNone\u001b[39;00m:\n\u001b[1;32m--> 381\u001b[0m     outputs \u001b[38;5;241m=\u001b[39m \u001b[43mexecute\u001b[49m\u001b[38;5;241;43m.\u001b[39;49m\u001b[43mexecute\u001b[49m\u001b[43m(\u001b[49m\n\u001b[0;32m    382\u001b[0m \u001b[43m        \u001b[49m\u001b[38;5;28;43mstr\u001b[39;49m\u001b[43m(\u001b[49m\u001b[38;5;28;43mself\u001b[39;49m\u001b[38;5;241;43m.\u001b[39;49m\u001b[43msignature\u001b[49m\u001b[38;5;241;43m.\u001b[39;49m\u001b[43mname\u001b[49m\u001b[43m)\u001b[49m\u001b[43m,\u001b[49m\n\u001b[0;32m    383\u001b[0m \u001b[43m        \u001b[49m\u001b[43mnum_outputs\u001b[49m\u001b[38;5;241;43m=\u001b[39;49m\u001b[38;5;28;43mself\u001b[39;49m\u001b[38;5;241;43m.\u001b[39;49m\u001b[43m_num_outputs\u001b[49m\u001b[43m,\u001b[49m\n\u001b[0;32m    384\u001b[0m \u001b[43m        \u001b[49m\u001b[43minputs\u001b[49m\u001b[38;5;241;43m=\u001b[39;49m\u001b[43margs\u001b[49m\u001b[43m,\u001b[49m\n\u001b[0;32m    385\u001b[0m \u001b[43m        \u001b[49m\u001b[43mattrs\u001b[49m\u001b[38;5;241;43m=\u001b[39;49m\u001b[43mattrs\u001b[49m\u001b[43m,\u001b[49m\n\u001b[0;32m    386\u001b[0m \u001b[43m        \u001b[49m\u001b[43mctx\u001b[49m\u001b[38;5;241;43m=\u001b[39;49m\u001b[43mctx\u001b[49m\u001b[43m)\u001b[49m\n\u001b[0;32m    387\u001b[0m   \u001b[38;5;28;01melse\u001b[39;00m:\n\u001b[0;32m    388\u001b[0m     outputs \u001b[38;5;241m=\u001b[39m execute\u001b[38;5;241m.\u001b[39mexecute_with_cancellation(\n\u001b[0;32m    389\u001b[0m         \u001b[38;5;28mstr\u001b[39m(\u001b[38;5;28mself\u001b[39m\u001b[38;5;241m.\u001b[39msignature\u001b[38;5;241m.\u001b[39mname),\n\u001b[0;32m    390\u001b[0m         num_outputs\u001b[38;5;241m=\u001b[39m\u001b[38;5;28mself\u001b[39m\u001b[38;5;241m.\u001b[39m_num_outputs,\n\u001b[1;32m   (...)\u001b[0m\n\u001b[0;32m    393\u001b[0m         ctx\u001b[38;5;241m=\u001b[39mctx,\n\u001b[0;32m    394\u001b[0m         cancellation_manager\u001b[38;5;241m=\u001b[39mcancellation_manager)\n",
      "File \u001b[1;32m~\\anaconda3\\lib\\site-packages\\tensorflow\\python\\eager\\execute.py:52\u001b[0m, in \u001b[0;36mquick_execute\u001b[1;34m(op_name, num_outputs, inputs, attrs, ctx, name)\u001b[0m\n\u001b[0;32m     50\u001b[0m \u001b[38;5;28;01mtry\u001b[39;00m:\n\u001b[0;32m     51\u001b[0m   ctx\u001b[38;5;241m.\u001b[39mensure_initialized()\n\u001b[1;32m---> 52\u001b[0m   tensors \u001b[38;5;241m=\u001b[39m \u001b[43mpywrap_tfe\u001b[49m\u001b[38;5;241;43m.\u001b[39;49m\u001b[43mTFE_Py_Execute\u001b[49m\u001b[43m(\u001b[49m\u001b[43mctx\u001b[49m\u001b[38;5;241;43m.\u001b[39;49m\u001b[43m_handle\u001b[49m\u001b[43m,\u001b[49m\u001b[43m \u001b[49m\u001b[43mdevice_name\u001b[49m\u001b[43m,\u001b[49m\u001b[43m \u001b[49m\u001b[43mop_name\u001b[49m\u001b[43m,\u001b[49m\n\u001b[0;32m     53\u001b[0m \u001b[43m                                      \u001b[49m\u001b[43minputs\u001b[49m\u001b[43m,\u001b[49m\u001b[43m \u001b[49m\u001b[43mattrs\u001b[49m\u001b[43m,\u001b[49m\u001b[43m \u001b[49m\u001b[43mnum_outputs\u001b[49m\u001b[43m)\u001b[49m\n\u001b[0;32m     54\u001b[0m \u001b[38;5;28;01mexcept\u001b[39;00m core\u001b[38;5;241m.\u001b[39m_NotOkStatusException \u001b[38;5;28;01mas\u001b[39;00m e:\n\u001b[0;32m     55\u001b[0m   \u001b[38;5;28;01mif\u001b[39;00m name \u001b[38;5;129;01mis\u001b[39;00m \u001b[38;5;129;01mnot\u001b[39;00m \u001b[38;5;28;01mNone\u001b[39;00m:\n",
      "\u001b[1;31mKeyboardInterrupt\u001b[0m: "
     ]
    }
   ],
   "source": [
    "print(params)\n",
    "print('#'*40)\n",
    "\n",
    "for epoch in range(ep,EPOCHS+1):\n",
    "    ep = epoch\n",
    "    start = time.time()\n",
    "\n",
    "    train_loss.reset_states()\n",
    "  \n",
    "    for (batch, (inp, tar)) in enumerate(dataset):\n",
    "        \n",
    "        train_step(inp, tar)\n",
    "    \n",
    "        if batch % 150 == 0:\n",
    "            print ('Epoch {} Batch {} Loss {:.4f}'.format(epoch , batch, train_loss.result()))\n",
    "                  \n",
    "    print()\n",
    "    print(summarize(clean_words(longreview_val['long'][i1])))\n",
    "    print(summarize(clean_words(longreview_val['long'][i2])))\n",
    "    print(summarize(clean_words(longreview_val['long'][i3])))\n",
    "    print(summarize(clean_words(longreview_val['long'][i4])))\n",
    "    print()\n",
    "    \n",
    "    val_loss_ = validate().numpy()\n",
    "    history['val'].append((epoch,val_loss_))\n",
    "    print ('\\n* Train Loss {:.4f}'.format(train_loss.result()))\n",
    "    history['train'].append((epoch,train_loss.result().numpy()))\n",
    "    \n",
    "    \n",
    "    if best_val_loss-val_loss_ > 0.1:\n",
    "        ckpt_save_path4 = ckpt_manager4.save()\n",
    "        print ('\\nSaving checkpoint for epoch {} at {}'.format(epoch, ckpt_save_path4))  \n",
    "        best_val_loss = val_loss_\n",
    "    \n",
    "    hist(history)\n",
    "    #print('Current Lr: ',optimizer2._decayed_lr('float32').numpy())\n",
    "    print ('\\nTime taken for this epoch: {:.2f} secs\\n'.format(time.time() - start))\n",
    "    print('='*40)"
   ]
  },
  {
   "cell_type": "code",
   "execution_count": null,
   "id": "c9684d67",
   "metadata": {},
   "outputs": [],
   "source": [
    "print(clean_words(longreview_val['long'][i2]))\n",
    "print()\n",
    "print(summarize(clean_words(longreview_val['long'][i2])))"
   ]
  },
  {
   "cell_type": "code",
   "execution_count": null,
   "id": "211ed1ad",
   "metadata": {},
   "outputs": [],
   "source": []
  }
 ],
 "metadata": {
  "kernelspec": {
   "display_name": "Python 3 (ipykernel)",
   "language": "python",
   "name": "python3"
  },
  "language_info": {
   "codemirror_mode": {
    "name": "ipython",
    "version": 3
   },
   "file_extension": ".py",
   "mimetype": "text/x-python",
   "name": "python",
   "nbconvert_exporter": "python",
   "pygments_lexer": "ipython3",
   "version": "3.10.9"
  }
 },
 "nbformat": 4,
 "nbformat_minor": 5
}

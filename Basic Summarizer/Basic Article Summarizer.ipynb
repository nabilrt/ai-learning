{
 "cells": [
  {
   "cell_type": "code",
   "execution_count": 1,
   "id": "e2a7266f",
   "metadata": {},
   "outputs": [],
   "source": [
    "import pandas as pd\n",
    "import numpy as np\n",
    "import tensorflow as tf\n",
    "import time\n",
    "import re\n",
    "import pickle"
   ]
  },
  {
   "cell_type": "code",
   "execution_count": 2,
   "id": "ff44e873",
   "metadata": {},
   "outputs": [],
   "source": [
    "df=pd.read_excel(\"news.xlsx\")"
   ]
  },
  {
   "cell_type": "code",
   "execution_count": 3,
   "id": "d5eefc21",
   "metadata": {},
   "outputs": [
    {
     "data": {
      "text/html": [
       "<div>\n",
       "<style scoped>\n",
       "    .dataframe tbody tr th:only-of-type {\n",
       "        vertical-align: middle;\n",
       "    }\n",
       "\n",
       "    .dataframe tbody tr th {\n",
       "        vertical-align: top;\n",
       "    }\n",
       "\n",
       "    .dataframe thead th {\n",
       "        text-align: right;\n",
       "    }\n",
       "</style>\n",
       "<table border=\"1\" class=\"dataframe\">\n",
       "  <thead>\n",
       "    <tr style=\"text-align: right;\">\n",
       "      <th></th>\n",
       "      <th>Headline</th>\n",
       "      <th>Short</th>\n",
       "      <th>Source</th>\n",
       "      <th>Time</th>\n",
       "      <th>Publish Date</th>\n",
       "    </tr>\n",
       "  </thead>\n",
       "  <tbody>\n",
       "    <tr>\n",
       "      <th>0</th>\n",
       "      <td>4 ex-bank officials booked for cheating bank o...</td>\n",
       "      <td>The CBI on Saturday booked four former officia...</td>\n",
       "      <td>The New Indian Express</td>\n",
       "      <td>09:25:00</td>\n",
       "      <td>2017-03-26</td>\n",
       "    </tr>\n",
       "    <tr>\n",
       "      <th>1</th>\n",
       "      <td>Supreme Court to go paperless in 6 months: CJI</td>\n",
       "      <td>Chief Justice JS Khehar has said the Supreme C...</td>\n",
       "      <td>Outlook</td>\n",
       "      <td>22:18:00</td>\n",
       "      <td>2017-03-25</td>\n",
       "    </tr>\n",
       "    <tr>\n",
       "      <th>2</th>\n",
       "      <td>At least 3 killed, 30 injured in blast in Sylh...</td>\n",
       "      <td>At least three people were killed, including a...</td>\n",
       "      <td>Hindustan Times</td>\n",
       "      <td>23:39:00</td>\n",
       "      <td>2017-03-25</td>\n",
       "    </tr>\n",
       "    <tr>\n",
       "      <th>3</th>\n",
       "      <td>Why has Reliance been barred from trading in f...</td>\n",
       "      <td>Mukesh Ambani-led Reliance Industries (RIL) wa...</td>\n",
       "      <td>Livemint</td>\n",
       "      <td>23:08:00</td>\n",
       "      <td>2017-03-25</td>\n",
       "    </tr>\n",
       "    <tr>\n",
       "      <th>4</th>\n",
       "      <td>Was stopped from entering my own studio at Tim...</td>\n",
       "      <td>TV news anchor Arnab Goswami has said he was t...</td>\n",
       "      <td>YouTube</td>\n",
       "      <td>23:24:00</td>\n",
       "      <td>2017-03-25</td>\n",
       "    </tr>\n",
       "    <tr>\n",
       "      <th>...</th>\n",
       "      <td>...</td>\n",
       "      <td>...</td>\n",
       "      <td>...</td>\n",
       "      <td>...</td>\n",
       "      <td>...</td>\n",
       "    </tr>\n",
       "    <tr>\n",
       "      <th>55099</th>\n",
       "      <td>Sensex loses 400 points to hit 52-week low</td>\n",
       "      <td>Tracking weak cues from the Asian markets, the...</td>\n",
       "      <td>The Financial Express</td>\n",
       "      <td>10:36:00</td>\n",
       "      <td>2016-01-20</td>\n",
       "    </tr>\n",
       "    <tr>\n",
       "      <th>55100</th>\n",
       "      <td>China to inject $91 bn into the money markets</td>\n",
       "      <td>Amid growing concerns about China&amp;#39;s econom...</td>\n",
       "      <td>Reuters</td>\n",
       "      <td>12:06:00</td>\n",
       "      <td>2016-01-20</td>\n",
       "    </tr>\n",
       "    <tr>\n",
       "      <th>55101</th>\n",
       "      <td>Ghulam Ali set to make acting debut in Bollywood</td>\n",
       "      <td>Pakistani Ghazal singer Ghulam Ali will soon m...</td>\n",
       "      <td>Hindustan Times</td>\n",
       "      <td>12:10:00</td>\n",
       "      <td>2016-01-20</td>\n",
       "    </tr>\n",
       "    <tr>\n",
       "      <th>55102</th>\n",
       "      <td>IS acknowledges death of Jihadi John: Report</td>\n",
       "      <td>The Islamic State (IS) has acknowledged the de...</td>\n",
       "      <td>YouTube</td>\n",
       "      <td>11:53:00</td>\n",
       "      <td>2016-01-20</td>\n",
       "    </tr>\n",
       "    <tr>\n",
       "      <th>55103</th>\n",
       "      <td>Cairn to seek $600 mn from India in damages</td>\n",
       "      <td>UK-based oil firm Cairn Energy on Tuesday said...</td>\n",
       "      <td>PTI News</td>\n",
       "      <td>20:50:00</td>\n",
       "      <td>2016-01-19</td>\n",
       "    </tr>\n",
       "  </tbody>\n",
       "</table>\n",
       "<p>55104 rows × 5 columns</p>\n",
       "</div>"
      ],
      "text/plain": [
       "                                                Headline  \\\n",
       "0      4 ex-bank officials booked for cheating bank o...   \n",
       "1         Supreme Court to go paperless in 6 months: CJI   \n",
       "2      At least 3 killed, 30 injured in blast in Sylh...   \n",
       "3      Why has Reliance been barred from trading in f...   \n",
       "4      Was stopped from entering my own studio at Tim...   \n",
       "...                                                  ...   \n",
       "55099         Sensex loses 400 points to hit 52-week low   \n",
       "55100      China to inject $91 bn into the money markets   \n",
       "55101   Ghulam Ali set to make acting debut in Bollywood   \n",
       "55102       IS acknowledges death of Jihadi John: Report   \n",
       "55103        Cairn to seek $600 mn from India in damages   \n",
       "\n",
       "                                                   Short  \\\n",
       "0      The CBI on Saturday booked four former officia...   \n",
       "1      Chief Justice JS Khehar has said the Supreme C...   \n",
       "2      At least three people were killed, including a...   \n",
       "3      Mukesh Ambani-led Reliance Industries (RIL) wa...   \n",
       "4      TV news anchor Arnab Goswami has said he was t...   \n",
       "...                                                  ...   \n",
       "55099  Tracking weak cues from the Asian markets, the...   \n",
       "55100  Amid growing concerns about China&#39;s econom...   \n",
       "55101  Pakistani Ghazal singer Ghulam Ali will soon m...   \n",
       "55102  The Islamic State (IS) has acknowledged the de...   \n",
       "55103  UK-based oil firm Cairn Energy on Tuesday said...   \n",
       "\n",
       "                      Source      Time  Publish Date  \n",
       "0      The New Indian Express  09:25:00   2017-03-26  \n",
       "1                     Outlook  22:18:00   2017-03-25  \n",
       "2             Hindustan Times  23:39:00   2017-03-25  \n",
       "3                    Livemint  23:08:00   2017-03-25  \n",
       "4                     YouTube  23:24:00   2017-03-25  \n",
       "...                       ...       ...          ...  \n",
       "55099   The Financial Express  10:36:00   2016-01-20  \n",
       "55100                 Reuters  12:06:00   2016-01-20  \n",
       "55101         Hindustan Times  12:10:00   2016-01-20  \n",
       "55102                 YouTube  11:53:00   2016-01-20  \n",
       "55103                PTI News  20:50:00   2016-01-19  \n",
       "\n",
       "[55104 rows x 5 columns]"
      ]
     },
     "execution_count": 3,
     "metadata": {},
     "output_type": "execute_result"
    }
   ],
   "source": [
    "df"
   ]
  },
  {
   "cell_type": "code",
   "execution_count": 4,
   "id": "e46113bc",
   "metadata": {},
   "outputs": [],
   "source": [
    "df.drop(['Source ', 'Time ', 'Publish Date'], axis=1, inplace=True)"
   ]
  },
  {
   "cell_type": "code",
   "execution_count": 5,
   "id": "9e3a624a",
   "metadata": {},
   "outputs": [],
   "source": [
    "news = df['Short']\n",
    "summary = df['Headline']"
   ]
  },
  {
   "cell_type": "code",
   "execution_count": 6,
   "id": "51cb5d41",
   "metadata": {},
   "outputs": [
    {
     "data": {
      "text/plain": [
       "('The Indian Army, after consultations with the Defence Ministry, is considering cutting down the number of its sahayaks by 25%, which translates to 10,000 jawans. This comes after videos of soldiers alleging that they were often made to perform menial tasks for the officers surfaced online. The sahayak jawans will be moved to army formations and replaced by civilians.',\n",
       " 'Indian Army considering to reduce its &#39;sahayaks&#39; by 10,000')"
      ]
     },
     "execution_count": 6,
     "metadata": {},
     "output_type": "execute_result"
    }
   ],
   "source": [
    "news[20], summary[20]"
   ]
  },
  {
   "cell_type": "code",
   "execution_count": 7,
   "id": "12a8c499",
   "metadata": {},
   "outputs": [
    {
     "data": {
      "text/plain": [
       "0    <go> 4 ex-bank officials booked for cheating b...\n",
       "1    <go> Supreme Court to go paperless in 6 months...\n",
       "2    <go> At least 3 killed, 30 injured in blast in...\n",
       "3    <go> Why has Reliance been barred from trading...\n",
       "4    <go> Was stopped from entering my own studio a...\n",
       "Name: Headline, dtype: object"
      ]
     },
     "execution_count": 7,
     "metadata": {},
     "output_type": "execute_result"
    }
   ],
   "source": [
    "summary = summary.apply(lambda x: '<go> ' + x + ' <stop>')\n",
    "summary.head()"
   ]
  },
  {
   "cell_type": "code",
   "execution_count": 8,
   "id": "b8945b88",
   "metadata": {},
   "outputs": [],
   "source": [
    "filters = '!\"#$%&()*+,-./:;=?@[\\\\]^_`{|}~\\t\\n'\n",
    "oov_token = '<unk>'"
   ]
  },
  {
   "cell_type": "code",
   "execution_count": 9,
   "id": "78aba3dc",
   "metadata": {},
   "outputs": [],
   "source": [
    "news_tokenizer = tf.keras.preprocessing.text.Tokenizer(oov_token=oov_token)\n",
    "summary_tokenizer = tf.keras.preprocessing.text.Tokenizer(filters=filters, oov_token=oov_token)"
   ]
  },
  {
   "cell_type": "code",
   "execution_count": 10,
   "id": "10e19268",
   "metadata": {},
   "outputs": [],
   "source": [
    "news_tokenizer.fit_on_texts(news)\n",
    "summary_tokenizer.fit_on_texts(summary)"
   ]
  },
  {
   "cell_type": "code",
   "execution_count": 11,
   "id": "9a3b5e5e",
   "metadata": {},
   "outputs": [],
   "source": [
    "inputs = news_tokenizer.texts_to_sequences(news)\n",
    "targets = summary_tokenizer.texts_to_sequences(summary)"
   ]
  },
  {
   "cell_type": "code",
   "execution_count": 12,
   "id": "a80da9e9",
   "metadata": {},
   "outputs": [
    {
     "data": {
      "text/plain": [
       "[[184, 22, 12, 71]]"
      ]
     },
     "execution_count": 12,
     "metadata": {},
     "output_type": "execute_result"
    }
   ],
   "source": [
    "summary_tokenizer.texts_to_sequences([\"This is a test\"])"
   ]
  },
  {
   "cell_type": "code",
   "execution_count": 13,
   "id": "202fc1cb",
   "metadata": {},
   "outputs": [
    {
     "data": {
      "text/plain": [
       "['this is a test']"
      ]
     },
     "execution_count": 13,
     "metadata": {},
     "output_type": "execute_result"
    }
   ],
   "source": [
    "summary_tokenizer.sequences_to_texts([[184, 22, 12, 71]])"
   ]
  },
  {
   "cell_type": "code",
   "execution_count": 15,
   "id": "615c196d",
   "metadata": {},
   "outputs": [
    {
     "data": {
      "text/plain": [
       "(76362, 29661)"
      ]
     },
     "execution_count": 15,
     "metadata": {},
     "output_type": "execute_result"
    }
   ],
   "source": [
    "encoder_vocab_size = len(news_tokenizer.word_index) + 1\n",
    "decoder_vocab_size = len(summary_tokenizer.word_index) + 1\n",
    "\n",
    "# vocab_size\n",
    "encoder_vocab_size, decoder_vocab_size"
   ]
  },
  {
   "cell_type": "code",
   "execution_count": null,
   "id": "fcce0059",
   "metadata": {},
   "outputs": [],
   "source": []
  }
 ],
 "metadata": {
  "kernelspec": {
   "display_name": "Python 3 (ipykernel)",
   "language": "python",
   "name": "python3"
  },
  "language_info": {
   "codemirror_mode": {
    "name": "ipython",
    "version": 3
   },
   "file_extension": ".py",
   "mimetype": "text/x-python",
   "name": "python",
   "nbconvert_exporter": "python",
   "pygments_lexer": "ipython3",
   "version": "3.10.9"
  }
 },
 "nbformat": 4,
 "nbformat_minor": 5
}
